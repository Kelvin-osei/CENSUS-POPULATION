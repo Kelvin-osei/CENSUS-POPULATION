{
 "cells": [
  {
   "cell_type": "markdown",
   "id": "d7591cd8",
   "metadata": {},
   "source": [
    "#  A CENSUS PROJECT"
   ]
  },
  {
   "cell_type": "markdown",
   "id": "b753c728",
   "metadata": {},
   "source": [
    "# Importing needed libraries"
   ]
  },
  {
   "cell_type": "code",
   "execution_count": 1,
   "id": "0d22660d",
   "metadata": {},
   "outputs": [],
   "source": [
    "import pandas as pd\n",
    "import numpy as np\n",
    "import seaborn as sns\n",
    "import matplotlib.pyplot as plt\n",
    "import sweetviz as sv"
   ]
  },
  {
   "cell_type": "code",
   "execution_count": 2,
   "id": "fa2866e0",
   "metadata": {},
   "outputs": [],
   "source": [
    "# loading the data set from pandas"
   ]
  },
  {
   "cell_type": "code",
   "execution_count": 3,
   "id": "430278bc",
   "metadata": {},
   "outputs": [],
   "source": [
    "p_census = pd.read_csv(\"census_07_2022.csv\")"
   ]
  },
  {
   "cell_type": "code",
   "execution_count": 4,
   "id": "06c670c1",
   "metadata": {
    "scrolled": false
   },
   "outputs": [
    {
     "data": {
      "text/html": [
       "<div>\n",
       "<style scoped>\n",
       "    .dataframe tbody tr th:only-of-type {\n",
       "        vertical-align: middle;\n",
       "    }\n",
       "\n",
       "    .dataframe tbody tr th {\n",
       "        vertical-align: top;\n",
       "    }\n",
       "\n",
       "    .dataframe thead th {\n",
       "        text-align: right;\n",
       "    }\n",
       "</style>\n",
       "<table border=\"1\" class=\"dataframe\">\n",
       "  <thead>\n",
       "    <tr style=\"text-align: right;\">\n",
       "      <th></th>\n",
       "      <th>Unnamed: 0</th>\n",
       "      <th>House Number</th>\n",
       "      <th>Street</th>\n",
       "      <th>First Name</th>\n",
       "      <th>Surname</th>\n",
       "      <th>Age</th>\n",
       "      <th>Relationship to Head of House</th>\n",
       "      <th>Marital Status</th>\n",
       "      <th>Gender</th>\n",
       "      <th>Occupation</th>\n",
       "      <th>Infirmity</th>\n",
       "      <th>Religion</th>\n",
       "    </tr>\n",
       "  </thead>\n",
       "  <tbody>\n",
       "    <tr>\n",
       "      <th>0</th>\n",
       "      <td>0</td>\n",
       "      <td>1</td>\n",
       "      <td>Forgotten Gardens</td>\n",
       "      <td>Laura</td>\n",
       "      <td>White</td>\n",
       "      <td>56</td>\n",
       "      <td>Head</td>\n",
       "      <td>Married</td>\n",
       "      <td>Female</td>\n",
       "      <td>Unemployed</td>\n",
       "      <td>None</td>\n",
       "      <td>Christian</td>\n",
       "    </tr>\n",
       "    <tr>\n",
       "      <th>1</th>\n",
       "      <td>1</td>\n",
       "      <td>1</td>\n",
       "      <td>Forgotten Gardens</td>\n",
       "      <td>Elliot</td>\n",
       "      <td>White</td>\n",
       "      <td>57</td>\n",
       "      <td>Husband</td>\n",
       "      <td>Married</td>\n",
       "      <td>Male</td>\n",
       "      <td>Education officer, community</td>\n",
       "      <td>None</td>\n",
       "      <td>Christian</td>\n",
       "    </tr>\n",
       "    <tr>\n",
       "      <th>2</th>\n",
       "      <td>2</td>\n",
       "      <td>1</td>\n",
       "      <td>Forgotten Gardens</td>\n",
       "      <td>Nicole</td>\n",
       "      <td>White</td>\n",
       "      <td>15</td>\n",
       "      <td>Daughter</td>\n",
       "      <td>NaN</td>\n",
       "      <td>Female</td>\n",
       "      <td>Student</td>\n",
       "      <td>None</td>\n",
       "      <td>NaN</td>\n",
       "    </tr>\n",
       "    <tr>\n",
       "      <th>3</th>\n",
       "      <td>3</td>\n",
       "      <td>2</td>\n",
       "      <td>Forgotten Gardens</td>\n",
       "      <td>Michelle</td>\n",
       "      <td>John</td>\n",
       "      <td>44</td>\n",
       "      <td>Head</td>\n",
       "      <td>Divorced</td>\n",
       "      <td>Female</td>\n",
       "      <td>Administrator, arts</td>\n",
       "      <td>None</td>\n",
       "      <td>Christian</td>\n",
       "    </tr>\n",
       "    <tr>\n",
       "      <th>4</th>\n",
       "      <td>4</td>\n",
       "      <td>2</td>\n",
       "      <td>Forgotten Gardens</td>\n",
       "      <td>Jeffrey</td>\n",
       "      <td>John</td>\n",
       "      <td>9</td>\n",
       "      <td>Son</td>\n",
       "      <td>NaN</td>\n",
       "      <td>Male</td>\n",
       "      <td>Student</td>\n",
       "      <td>None</td>\n",
       "      <td>NaN</td>\n",
       "    </tr>\n",
       "    <tr>\n",
       "      <th>...</th>\n",
       "      <td>...</td>\n",
       "      <td>...</td>\n",
       "      <td>...</td>\n",
       "      <td>...</td>\n",
       "      <td>...</td>\n",
       "      <td>...</td>\n",
       "      <td>...</td>\n",
       "      <td>...</td>\n",
       "      <td>...</td>\n",
       "      <td>...</td>\n",
       "      <td>...</td>\n",
       "      <td>...</td>\n",
       "    </tr>\n",
       "    <tr>\n",
       "      <th>7768</th>\n",
       "      <td>7768</td>\n",
       "      <td>1</td>\n",
       "      <td>Fletcher Farmhouse</td>\n",
       "      <td>Beverley</td>\n",
       "      <td>Hudson</td>\n",
       "      <td>30</td>\n",
       "      <td>Head</td>\n",
       "      <td>Divorced</td>\n",
       "      <td>Female</td>\n",
       "      <td>Research officer, trade union</td>\n",
       "      <td>None</td>\n",
       "      <td>Christian</td>\n",
       "    </tr>\n",
       "    <tr>\n",
       "      <th>7769</th>\n",
       "      <td>7769</td>\n",
       "      <td>1</td>\n",
       "      <td>Fletcher Farmhouse</td>\n",
       "      <td>Rachael</td>\n",
       "      <td>Hudson</td>\n",
       "      <td>0</td>\n",
       "      <td>Daughter</td>\n",
       "      <td>NaN</td>\n",
       "      <td>Female</td>\n",
       "      <td>Child</td>\n",
       "      <td>None</td>\n",
       "      <td>NaN</td>\n",
       "    </tr>\n",
       "    <tr>\n",
       "      <th>7770</th>\n",
       "      <td>7770</td>\n",
       "      <td>1</td>\n",
       "      <td>Fletcher Farmhouse</td>\n",
       "      <td>Stephen</td>\n",
       "      <td>Shepherd</td>\n",
       "      <td>54</td>\n",
       "      <td>Sibling</td>\n",
       "      <td>Divorced</td>\n",
       "      <td>Male</td>\n",
       "      <td>Accountant, chartered public finance</td>\n",
       "      <td>None</td>\n",
       "      <td>None</td>\n",
       "    </tr>\n",
       "    <tr>\n",
       "      <th>7771</th>\n",
       "      <td>7771</td>\n",
       "      <td>1</td>\n",
       "      <td>Fletcher Farmhouse</td>\n",
       "      <td>William</td>\n",
       "      <td>French</td>\n",
       "      <td>48</td>\n",
       "      <td>Lodger</td>\n",
       "      <td>Single</td>\n",
       "      <td>Male</td>\n",
       "      <td>Unemployed</td>\n",
       "      <td>None</td>\n",
       "      <td>Christian</td>\n",
       "    </tr>\n",
       "    <tr>\n",
       "      <th>7772</th>\n",
       "      <td>7772</td>\n",
       "      <td>1</td>\n",
       "      <td>Fletcher Farmhouse</td>\n",
       "      <td>Deborah</td>\n",
       "      <td>Yates</td>\n",
       "      <td>34</td>\n",
       "      <td>Lodger</td>\n",
       "      <td>Single</td>\n",
       "      <td>Female</td>\n",
       "      <td>Geographical information systems officer</td>\n",
       "      <td>None</td>\n",
       "      <td>None</td>\n",
       "    </tr>\n",
       "  </tbody>\n",
       "</table>\n",
       "<p>7773 rows × 12 columns</p>\n",
       "</div>"
      ],
      "text/plain": [
       "      Unnamed: 0 House Number              Street First Name   Surname Age  \\\n",
       "0              0            1   Forgotten Gardens      Laura     White  56   \n",
       "1              1            1   Forgotten Gardens     Elliot     White  57   \n",
       "2              2            1   Forgotten Gardens     Nicole     White  15   \n",
       "3              3            2   Forgotten Gardens   Michelle      John  44   \n",
       "4              4            2   Forgotten Gardens    Jeffrey      John   9   \n",
       "...          ...          ...                 ...        ...       ...  ..   \n",
       "7768        7768            1  Fletcher Farmhouse   Beverley    Hudson  30   \n",
       "7769        7769            1  Fletcher Farmhouse    Rachael    Hudson   0   \n",
       "7770        7770            1  Fletcher Farmhouse    Stephen  Shepherd  54   \n",
       "7771        7771            1  Fletcher Farmhouse    William    French  48   \n",
       "7772        7772            1  Fletcher Farmhouse    Deborah     Yates  34   \n",
       "\n",
       "     Relationship to Head of House Marital Status  Gender  \\\n",
       "0                             Head        Married  Female   \n",
       "1                          Husband        Married    Male   \n",
       "2                         Daughter            NaN  Female   \n",
       "3                             Head       Divorced  Female   \n",
       "4                              Son            NaN    Male   \n",
       "...                            ...            ...     ...   \n",
       "7768                          Head       Divorced  Female   \n",
       "7769                      Daughter            NaN  Female   \n",
       "7770                       Sibling       Divorced    Male   \n",
       "7771                        Lodger         Single    Male   \n",
       "7772                        Lodger         Single  Female   \n",
       "\n",
       "                                    Occupation Infirmity   Religion  \n",
       "0                                   Unemployed      None  Christian  \n",
       "1                 Education officer, community      None  Christian  \n",
       "2                                      Student      None        NaN  \n",
       "3                          Administrator, arts      None  Christian  \n",
       "4                                      Student      None        NaN  \n",
       "...                                        ...       ...        ...  \n",
       "7768             Research officer, trade union      None  Christian  \n",
       "7769                                     Child      None        NaN  \n",
       "7770      Accountant, chartered public finance      None       None  \n",
       "7771                                Unemployed      None  Christian  \n",
       "7772  Geographical information systems officer      None       None  \n",
       "\n",
       "[7773 rows x 12 columns]"
      ]
     },
     "execution_count": 4,
     "metadata": {},
     "output_type": "execute_result"
    }
   ],
   "source": [
    "p_census\n"
   ]
  },
  {
   "cell_type": "markdown",
   "id": "db129b3b",
   "metadata": {},
   "source": [
    "# Exploring the data"
   ]
  },
  {
   "cell_type": "code",
   "execution_count": 5,
   "id": "d29dfbec",
   "metadata": {},
   "outputs": [],
   "source": [
    "# There is an unnamed column in the data set, we have to drop it"
   ]
  },
  {
   "cell_type": "code",
   "execution_count": 6,
   "id": "248a1b2d",
   "metadata": {},
   "outputs": [],
   "source": [
    "p_census.drop('Unnamed: 0', axis=1, inplace=True)"
   ]
  },
  {
   "cell_type": "code",
   "execution_count": 7,
   "id": "047f93ed",
   "metadata": {
    "scrolled": true
   },
   "outputs": [
    {
     "data": {
      "text/html": [
       "<div>\n",
       "<style scoped>\n",
       "    .dataframe tbody tr th:only-of-type {\n",
       "        vertical-align: middle;\n",
       "    }\n",
       "\n",
       "    .dataframe tbody tr th {\n",
       "        vertical-align: top;\n",
       "    }\n",
       "\n",
       "    .dataframe thead th {\n",
       "        text-align: right;\n",
       "    }\n",
       "</style>\n",
       "<table border=\"1\" class=\"dataframe\">\n",
       "  <thead>\n",
       "    <tr style=\"text-align: right;\">\n",
       "      <th></th>\n",
       "      <th>House Number</th>\n",
       "      <th>Street</th>\n",
       "      <th>First Name</th>\n",
       "      <th>Surname</th>\n",
       "      <th>Age</th>\n",
       "      <th>Relationship to Head of House</th>\n",
       "      <th>Marital Status</th>\n",
       "      <th>Gender</th>\n",
       "      <th>Occupation</th>\n",
       "      <th>Infirmity</th>\n",
       "      <th>Religion</th>\n",
       "    </tr>\n",
       "  </thead>\n",
       "  <tbody>\n",
       "    <tr>\n",
       "      <th>0</th>\n",
       "      <td>1</td>\n",
       "      <td>Forgotten Gardens</td>\n",
       "      <td>Laura</td>\n",
       "      <td>White</td>\n",
       "      <td>56</td>\n",
       "      <td>Head</td>\n",
       "      <td>Married</td>\n",
       "      <td>Female</td>\n",
       "      <td>Unemployed</td>\n",
       "      <td>None</td>\n",
       "      <td>Christian</td>\n",
       "    </tr>\n",
       "    <tr>\n",
       "      <th>1</th>\n",
       "      <td>1</td>\n",
       "      <td>Forgotten Gardens</td>\n",
       "      <td>Elliot</td>\n",
       "      <td>White</td>\n",
       "      <td>57</td>\n",
       "      <td>Husband</td>\n",
       "      <td>Married</td>\n",
       "      <td>Male</td>\n",
       "      <td>Education officer, community</td>\n",
       "      <td>None</td>\n",
       "      <td>Christian</td>\n",
       "    </tr>\n",
       "    <tr>\n",
       "      <th>2</th>\n",
       "      <td>1</td>\n",
       "      <td>Forgotten Gardens</td>\n",
       "      <td>Nicole</td>\n",
       "      <td>White</td>\n",
       "      <td>15</td>\n",
       "      <td>Daughter</td>\n",
       "      <td>NaN</td>\n",
       "      <td>Female</td>\n",
       "      <td>Student</td>\n",
       "      <td>None</td>\n",
       "      <td>NaN</td>\n",
       "    </tr>\n",
       "    <tr>\n",
       "      <th>3</th>\n",
       "      <td>2</td>\n",
       "      <td>Forgotten Gardens</td>\n",
       "      <td>Michelle</td>\n",
       "      <td>John</td>\n",
       "      <td>44</td>\n",
       "      <td>Head</td>\n",
       "      <td>Divorced</td>\n",
       "      <td>Female</td>\n",
       "      <td>Administrator, arts</td>\n",
       "      <td>None</td>\n",
       "      <td>Christian</td>\n",
       "    </tr>\n",
       "    <tr>\n",
       "      <th>4</th>\n",
       "      <td>2</td>\n",
       "      <td>Forgotten Gardens</td>\n",
       "      <td>Jeffrey</td>\n",
       "      <td>John</td>\n",
       "      <td>9</td>\n",
       "      <td>Son</td>\n",
       "      <td>NaN</td>\n",
       "      <td>Male</td>\n",
       "      <td>Student</td>\n",
       "      <td>None</td>\n",
       "      <td>NaN</td>\n",
       "    </tr>\n",
       "    <tr>\n",
       "      <th>...</th>\n",
       "      <td>...</td>\n",
       "      <td>...</td>\n",
       "      <td>...</td>\n",
       "      <td>...</td>\n",
       "      <td>...</td>\n",
       "      <td>...</td>\n",
       "      <td>...</td>\n",
       "      <td>...</td>\n",
       "      <td>...</td>\n",
       "      <td>...</td>\n",
       "      <td>...</td>\n",
       "    </tr>\n",
       "    <tr>\n",
       "      <th>7768</th>\n",
       "      <td>1</td>\n",
       "      <td>Fletcher Farmhouse</td>\n",
       "      <td>Beverley</td>\n",
       "      <td>Hudson</td>\n",
       "      <td>30</td>\n",
       "      <td>Head</td>\n",
       "      <td>Divorced</td>\n",
       "      <td>Female</td>\n",
       "      <td>Research officer, trade union</td>\n",
       "      <td>None</td>\n",
       "      <td>Christian</td>\n",
       "    </tr>\n",
       "    <tr>\n",
       "      <th>7769</th>\n",
       "      <td>1</td>\n",
       "      <td>Fletcher Farmhouse</td>\n",
       "      <td>Rachael</td>\n",
       "      <td>Hudson</td>\n",
       "      <td>0</td>\n",
       "      <td>Daughter</td>\n",
       "      <td>NaN</td>\n",
       "      <td>Female</td>\n",
       "      <td>Child</td>\n",
       "      <td>None</td>\n",
       "      <td>NaN</td>\n",
       "    </tr>\n",
       "    <tr>\n",
       "      <th>7770</th>\n",
       "      <td>1</td>\n",
       "      <td>Fletcher Farmhouse</td>\n",
       "      <td>Stephen</td>\n",
       "      <td>Shepherd</td>\n",
       "      <td>54</td>\n",
       "      <td>Sibling</td>\n",
       "      <td>Divorced</td>\n",
       "      <td>Male</td>\n",
       "      <td>Accountant, chartered public finance</td>\n",
       "      <td>None</td>\n",
       "      <td>None</td>\n",
       "    </tr>\n",
       "    <tr>\n",
       "      <th>7771</th>\n",
       "      <td>1</td>\n",
       "      <td>Fletcher Farmhouse</td>\n",
       "      <td>William</td>\n",
       "      <td>French</td>\n",
       "      <td>48</td>\n",
       "      <td>Lodger</td>\n",
       "      <td>Single</td>\n",
       "      <td>Male</td>\n",
       "      <td>Unemployed</td>\n",
       "      <td>None</td>\n",
       "      <td>Christian</td>\n",
       "    </tr>\n",
       "    <tr>\n",
       "      <th>7772</th>\n",
       "      <td>1</td>\n",
       "      <td>Fletcher Farmhouse</td>\n",
       "      <td>Deborah</td>\n",
       "      <td>Yates</td>\n",
       "      <td>34</td>\n",
       "      <td>Lodger</td>\n",
       "      <td>Single</td>\n",
       "      <td>Female</td>\n",
       "      <td>Geographical information systems officer</td>\n",
       "      <td>None</td>\n",
       "      <td>None</td>\n",
       "    </tr>\n",
       "  </tbody>\n",
       "</table>\n",
       "<p>7773 rows × 11 columns</p>\n",
       "</div>"
      ],
      "text/plain": [
       "     House Number              Street First Name   Surname Age  \\\n",
       "0               1   Forgotten Gardens      Laura     White  56   \n",
       "1               1   Forgotten Gardens     Elliot     White  57   \n",
       "2               1   Forgotten Gardens     Nicole     White  15   \n",
       "3               2   Forgotten Gardens   Michelle      John  44   \n",
       "4               2   Forgotten Gardens    Jeffrey      John   9   \n",
       "...           ...                 ...        ...       ...  ..   \n",
       "7768            1  Fletcher Farmhouse   Beverley    Hudson  30   \n",
       "7769            1  Fletcher Farmhouse    Rachael    Hudson   0   \n",
       "7770            1  Fletcher Farmhouse    Stephen  Shepherd  54   \n",
       "7771            1  Fletcher Farmhouse    William    French  48   \n",
       "7772            1  Fletcher Farmhouse    Deborah     Yates  34   \n",
       "\n",
       "     Relationship to Head of House Marital Status  Gender  \\\n",
       "0                             Head        Married  Female   \n",
       "1                          Husband        Married    Male   \n",
       "2                         Daughter            NaN  Female   \n",
       "3                             Head       Divorced  Female   \n",
       "4                              Son            NaN    Male   \n",
       "...                            ...            ...     ...   \n",
       "7768                          Head       Divorced  Female   \n",
       "7769                      Daughter            NaN  Female   \n",
       "7770                       Sibling       Divorced    Male   \n",
       "7771                        Lodger         Single    Male   \n",
       "7772                        Lodger         Single  Female   \n",
       "\n",
       "                                    Occupation Infirmity   Religion  \n",
       "0                                   Unemployed      None  Christian  \n",
       "1                 Education officer, community      None  Christian  \n",
       "2                                      Student      None        NaN  \n",
       "3                          Administrator, arts      None  Christian  \n",
       "4                                      Student      None        NaN  \n",
       "...                                        ...       ...        ...  \n",
       "7768             Research officer, trade union      None  Christian  \n",
       "7769                                     Child      None        NaN  \n",
       "7770      Accountant, chartered public finance      None       None  \n",
       "7771                                Unemployed      None  Christian  \n",
       "7772  Geographical information systems officer      None       None  \n",
       "\n",
       "[7773 rows x 11 columns]"
      ]
     },
     "execution_count": 7,
     "metadata": {},
     "output_type": "execute_result"
    }
   ],
   "source": [
    "p_census"
   ]
  },
  {
   "cell_type": "markdown",
   "id": "6b9437f2",
   "metadata": {},
   "source": [
    "# checking the dimension of the data now"
   ]
  },
  {
   "cell_type": "code",
   "execution_count": 8,
   "id": "a59f9719",
   "metadata": {},
   "outputs": [
    {
     "data": {
      "text/plain": [
       "(7773, 11)"
      ]
     },
     "execution_count": 8,
     "metadata": {},
     "output_type": "execute_result"
    }
   ],
   "source": [
    "p_census.shape"
   ]
  },
  {
   "cell_type": "code",
   "execution_count": 9,
   "id": "c3ba0f2b",
   "metadata": {},
   "outputs": [],
   "source": [
    "#### Describing the data"
   ]
  },
  {
   "cell_type": "code",
   "execution_count": 10,
   "id": "a18d5885",
   "metadata": {},
   "outputs": [
    {
     "data": {
      "text/html": [
       "<div>\n",
       "<style scoped>\n",
       "    .dataframe tbody tr th:only-of-type {\n",
       "        vertical-align: middle;\n",
       "    }\n",
       "\n",
       "    .dataframe tbody tr th {\n",
       "        vertical-align: top;\n",
       "    }\n",
       "\n",
       "    .dataframe thead th {\n",
       "        text-align: right;\n",
       "    }\n",
       "</style>\n",
       "<table border=\"1\" class=\"dataframe\">\n",
       "  <thead>\n",
       "    <tr style=\"text-align: right;\">\n",
       "      <th></th>\n",
       "      <th>count</th>\n",
       "      <th>unique</th>\n",
       "      <th>top</th>\n",
       "      <th>freq</th>\n",
       "    </tr>\n",
       "  </thead>\n",
       "  <tbody>\n",
       "    <tr>\n",
       "      <th>House Number</th>\n",
       "      <td>7773</td>\n",
       "      <td>222</td>\n",
       "      <td>1</td>\n",
       "      <td>301</td>\n",
       "    </tr>\n",
       "    <tr>\n",
       "      <th>Street</th>\n",
       "      <td>7773</td>\n",
       "      <td>105</td>\n",
       "      <td>Wong Light</td>\n",
       "      <td>701</td>\n",
       "    </tr>\n",
       "    <tr>\n",
       "      <th>First Name</th>\n",
       "      <td>7773</td>\n",
       "      <td>366</td>\n",
       "      <td>James</td>\n",
       "      <td>36</td>\n",
       "    </tr>\n",
       "    <tr>\n",
       "      <th>Surname</th>\n",
       "      <td>7773</td>\n",
       "      <td>630</td>\n",
       "      <td>Smith</td>\n",
       "      <td>225</td>\n",
       "    </tr>\n",
       "    <tr>\n",
       "      <th>Age</th>\n",
       "      <td>7773</td>\n",
       "      <td>110</td>\n",
       "      <td>43</td>\n",
       "      <td>146</td>\n",
       "    </tr>\n",
       "    <tr>\n",
       "      <th>Relationship to Head of House</th>\n",
       "      <td>7773</td>\n",
       "      <td>21</td>\n",
       "      <td>Head</td>\n",
       "      <td>2912</td>\n",
       "    </tr>\n",
       "    <tr>\n",
       "      <th>Marital Status</th>\n",
       "      <td>5960</td>\n",
       "      <td>9</td>\n",
       "      <td>Single</td>\n",
       "      <td>2660</td>\n",
       "    </tr>\n",
       "    <tr>\n",
       "      <th>Gender</th>\n",
       "      <td>7773</td>\n",
       "      <td>9</td>\n",
       "      <td>Female</td>\n",
       "      <td>3889</td>\n",
       "    </tr>\n",
       "    <tr>\n",
       "      <th>Occupation</th>\n",
       "      <td>7773</td>\n",
       "      <td>1086</td>\n",
       "      <td>Student</td>\n",
       "      <td>1477</td>\n",
       "    </tr>\n",
       "    <tr>\n",
       "      <th>Infirmity</th>\n",
       "      <td>7773</td>\n",
       "      <td>8</td>\n",
       "      <td>None</td>\n",
       "      <td>7721</td>\n",
       "    </tr>\n",
       "    <tr>\n",
       "      <th>Religion</th>\n",
       "      <td>5910</td>\n",
       "      <td>14</td>\n",
       "      <td>None</td>\n",
       "      <td>2594</td>\n",
       "    </tr>\n",
       "  </tbody>\n",
       "</table>\n",
       "</div>"
      ],
      "text/plain": [
       "                              count unique         top  freq\n",
       "House Number                   7773    222           1   301\n",
       "Street                         7773    105  Wong Light   701\n",
       "First Name                     7773    366       James    36\n",
       "Surname                        7773    630       Smith   225\n",
       "Age                            7773    110          43   146\n",
       "Relationship to Head of House  7773     21        Head  2912\n",
       "Marital Status                 5960      9      Single  2660\n",
       "Gender                         7773      9      Female  3889\n",
       "Occupation                     7773   1086     Student  1477\n",
       "Infirmity                      7773      8        None  7721\n",
       "Religion                       5910     14        None  2594"
      ]
     },
     "execution_count": 10,
     "metadata": {},
     "output_type": "execute_result"
    }
   ],
   "source": [
    "p_census.describe().T"
   ]
  },
  {
   "cell_type": "markdown",
   "id": "2384da2c",
   "metadata": {},
   "source": [
    "# Exploring the data for cleaning"
   ]
  },
  {
   "cell_type": "code",
   "execution_count": null,
   "id": "7c3c1908",
   "metadata": {},
   "outputs": [],
   "source": []
  },
  {
   "cell_type": "code",
   "execution_count": 11,
   "id": "a6200809",
   "metadata": {},
   "outputs": [
    {
     "name": "stdout",
     "output_type": "stream",
     "text": [
      "<class 'pandas.core.frame.DataFrame'>\n",
      "RangeIndex: 7773 entries, 0 to 7772\n",
      "Data columns (total 11 columns):\n",
      " #   Column                         Non-Null Count  Dtype \n",
      "---  ------                         --------------  ----- \n",
      " 0   House Number                   7773 non-null   object\n",
      " 1   Street                         7773 non-null   object\n",
      " 2   First Name                     7773 non-null   object\n",
      " 3   Surname                        7773 non-null   object\n",
      " 4   Age                            7773 non-null   object\n",
      " 5   Relationship to Head of House  7773 non-null   object\n",
      " 6   Marital Status                 5960 non-null   object\n",
      " 7   Gender                         7773 non-null   object\n",
      " 8   Occupation                     7773 non-null   object\n",
      " 9   Infirmity                      7773 non-null   object\n",
      " 10  Religion                       5910 non-null   object\n",
      "dtypes: object(11)\n",
      "memory usage: 668.1+ KB\n"
     ]
    }
   ],
   "source": [
    "p_census.info() # checking comprehensive information about the data"
   ]
  },
  {
   "cell_type": "markdown",
   "id": "dffafd19",
   "metadata": {},
   "source": [
    "#####    After having a look of the information about the census dataset,i  discovered that, all columns  have a datatype to be an 'object',   including those meant to be integers e.g House number and age .I also discovered that the Marital Status column and the Religion column also have null values "
   ]
  },
  {
   "cell_type": "code",
   "execution_count": null,
   "id": "93bf2d62",
   "metadata": {},
   "outputs": [],
   "source": []
  },
  {
   "cell_type": "code",
   "execution_count": 12,
   "id": "ae425c7a",
   "metadata": {},
   "outputs": [],
   "source": [
    "#### checking the null values"
   ]
  },
  {
   "cell_type": "code",
   "execution_count": 13,
   "id": "f539a53d",
   "metadata": {},
   "outputs": [
    {
     "data": {
      "text/plain": [
       "House Number                        0\n",
       "Street                              0\n",
       "First Name                          0\n",
       "Surname                             0\n",
       "Age                                 0\n",
       "Relationship to Head of House       0\n",
       "Marital Status                   1813\n",
       "Gender                              0\n",
       "Occupation                          0\n",
       "Infirmity                           0\n",
       "Religion                         1863\n",
       "dtype: int64"
      ]
     },
     "execution_count": 13,
     "metadata": {},
     "output_type": "execute_result"
    }
   ],
   "source": [
    "p_census.isnull().sum()"
   ]
  },
  {
   "cell_type": "code",
   "execution_count": 14,
   "id": "7f78f996",
   "metadata": {},
   "outputs": [
    {
     "name": "stdout",
     "output_type": "stream",
     "text": [
      "['Unemployed' 'Education officer, community' 'Student' ...\n",
      " 'Retired Civil Service administrator'\n",
      " 'Retired Research officer, government'\n",
      " 'Retired Consulting civil engineer']\n"
     ]
    }
   ],
   "source": [
    "occupation_unique = p_census[\"Occupation\"].unique()\n",
    "print(occupation_unique)"
   ]
  },
  {
   "cell_type": "code",
   "execution_count": null,
   "id": "cb2527a8",
   "metadata": {},
   "outputs": [],
   "source": []
  },
  {
   "cell_type": "code",
   "execution_count": 15,
   "id": "d2313d4b",
   "metadata": {},
   "outputs": [],
   "source": [
    "# using unique values to find all the unusual entries in the data set"
   ]
  },
  {
   "cell_type": "code",
   "execution_count": 16,
   "id": "0620dcc8",
   "metadata": {},
   "outputs": [
    {
     "name": "stdout",
     "output_type": "stream",
     "text": [
      "['56' '57' '15' '44' '9' '72' '38' '5' '3' '41' '13' '73' '45' '36' '51'\n",
      " '23' '33' '4' '0' '30' '6' '2' '21' '28' '27' '83' '85' '19' '40' '16'\n",
      " '89' '65' '47' '20' '68' '66' '37' '32' '14' '10' '86' '69' '58' '22'\n",
      " '59' '63' '46' '39' '53' '42' '12' '8' '1' '24' '50' '26' '70' '54' '43'\n",
      " '60' '18' '11' '29' '76' '64' '34' '52' '35' '7' '48' '25' '75' '79' '71'\n",
      " '17' '49' '55' '74' '78' '31' '62' '67' '61' '72.38784457' '74.38784457'\n",
      " '84' '88' '80' '77' '81' '87' '101' '104' '82' '91' '102' '97' '90' '96'\n",
      " '98' '93' '103' '80.57582061' '77.57582061' '7.11E-15' '92' '105' '94'\n",
      " ' ' '99']\n"
     ]
    }
   ],
   "source": [
    "age_unique = p_census[\"Age\"].unique()\n",
    "print(age_unique)"
   ]
  },
  {
   "cell_type": "markdown",
   "id": "31d2cf09",
   "metadata": {},
   "source": [
    "##### upon further analysis in the age column using unique values, i discovered that, there's one missing value in the dataset and some ages in the data set were floats instead of integer"
   ]
  },
  {
   "cell_type": "code",
   "execution_count": 17,
   "id": "1b38f6b0",
   "metadata": {},
   "outputs": [
    {
     "name": "stdout",
     "output_type": "stream",
     "text": [
      "['1' '2' '3' '4' '5' '6' '7' '8' '9' '10' '11' '12' '13' '14' '15' '16'\n",
      " '17' '18' '19' '20' '21' '22' '23' '24' '25' '26' '27' '28' '29' '30'\n",
      " '31' '32' '33' '34' '35' '36' '37' '38' '39' '40' '41' '42' '43' '44'\n",
      " '45' '46' '47' '48' '49' '50' '51' '52' '53' '54' '55' '56' '57' '58'\n",
      " '59' '60' '61' '62' '63' '64' '65' '66' '67' '68' '69' '70' '71' '72'\n",
      " '73' '74' '75' '76' '77' '78' '79' '80' '81' '82' '83' '84' '85' '86'\n",
      " '87' '88' '89' '90' '91' '92' '93' '94' '95' '96' '97' '98' '99' '100'\n",
      " '101' 'One' '102' '103' '104' '105' '106' '107' '108' '109' '110' '111'\n",
      " '112' '113' '114' '115' '116' '117' '118' '119' '120' '121' '122' '123'\n",
      " '124' '125' '126' '127' '128' '129' '130' '131' '132' '133' '134' '135'\n",
      " '136' '137' '138' '139' '140' '141' '142' '143' '144' '145' '146' '147'\n",
      " '148' '149' '150' '151' '152' '153' '154' '155' '156' '157' '158' '159'\n",
      " '160' '161' '162' '163' '164' '165' '166' '167' '168' '169' '170' '171'\n",
      " '172' '173' '174' '175' '176' '177' '178' '179' '180' '181' '182' '183'\n",
      " '184' '185' '186' '187' '188' '189' '190' '191' '192' '193' '194' '195'\n",
      " '196' '197' '198' '199' '200' '201' '202' '203' '204' '205' '206' '207'\n",
      " '208' '209' '210' '211' '212' '213' '214' '215' '216' '217' '218' '219'\n",
      " '220' '221']\n"
     ]
    }
   ],
   "source": [
    "housenumber_unique = p_census[\"House Number\"].unique()\n",
    "print(housenumber_unique)"
   ]
  },
  {
   "cell_type": "markdown",
   "id": "c264f3ea",
   "metadata": {},
   "source": [
    "#### upon further analysis, i found out that one of the house numbers , 'one' has it numbers to be words instead of number and all the values are in strings or objects "
   ]
  },
  {
   "cell_type": "code",
   "execution_count": 18,
   "id": "709ceeaf",
   "metadata": {},
   "outputs": [
    {
     "name": "stdout",
     "output_type": "stream",
     "text": [
      "['Head' 'Husband' 'Daughter' 'Son' 'None' 'Wife' 'Partner' 'Lodger'\n",
      " 'Sibling' 'Visitor' 'Cousin' 'Adopted Son' 'Granddaughter' 'Grandson'\n",
      " 'Adopted Daughter' 'Step-Son' 'Step-Daughter' 'Neice' 'Nephew'\n",
      " 'Adopted Granddaughter' ' ']\n"
     ]
    }
   ],
   "source": [
    "unique_R_t_head = p_census[\"Relationship to Head of House\"].unique()\n",
    "print(unique_R_t_head)"
   ]
  },
  {
   "cell_type": "code",
   "execution_count": 19,
   "id": "35ea0a08",
   "metadata": {},
   "outputs": [
    {
     "data": {
      "text/plain": [
       "Head                     2912\n",
       "Son                      1273\n",
       "Daughter                 1215\n",
       "Husband                   803\n",
       "None                      474\n",
       "Wife                      291\n",
       "Lodger                    274\n",
       "Partner                   223\n",
       "Grandson                   66\n",
       "Granddaughter              56\n",
       "Sibling                    42\n",
       "Cousin                     32\n",
       "Visitor                    27\n",
       "Step-Son                   24\n",
       "Adopted Son                17\n",
       "Step-Daughter              16\n",
       "Neice                      10\n",
       "Nephew                      9\n",
       "Adopted Daughter            7\n",
       "Adopted Granddaughter       1\n",
       "                            1\n",
       "Name: Relationship to Head of House, dtype: int64"
      ]
     },
     "execution_count": 19,
     "metadata": {},
     "output_type": "execute_result"
    }
   ],
   "source": [
    "p_census['Relationship to Head of House'].value_counts()"
   ]
  },
  {
   "cell_type": "markdown",
   "id": "dbb2dc4a",
   "metadata": {},
   "source": [
    "#### The data set of Relationship to Head of House shows me that there's no missing value. After i did further analysis, i realised there's one (1) empty string using value count and neice is wrongly spelt"
   ]
  },
  {
   "cell_type": "code",
   "execution_count": 20,
   "id": "0179d598",
   "metadata": {},
   "outputs": [
    {
     "data": {
      "text/plain": [
       "Single      2660\n",
       "Married     2193\n",
       "Divorced     695\n",
       "Widowed      395\n",
       "D              7\n",
       "W              5\n",
       "M              3\n",
       "               1\n",
       "S              1\n",
       "Name: Marital Status, dtype: int64"
      ]
     },
     "execution_count": 20,
     "metadata": {},
     "output_type": "execute_result"
    }
   ],
   "source": [
    "p_census['Marital Status'].value_counts()"
   ]
  },
  {
   "cell_type": "markdown",
   "id": "cf8b7952",
   "metadata": {},
   "source": [
    "##### After checking the marital status, i found out that , theres one missing value in the data set and also, i discovered that some of the main values like single, Married, Divorced, widowed where represented by S,M,D,W resepectively"
   ]
  },
  {
   "cell_type": "code",
   "execution_count": 21,
   "id": "d062d514",
   "metadata": {},
   "outputs": [
    {
     "data": {
      "text/plain": [
       "Female    3889\n",
       "Male      3566\n",
       "female     100\n",
       "M           82\n",
       "m           81\n",
       "male        27\n",
       "F           16\n",
       "f           11\n",
       "             1\n",
       "Name: Gender, dtype: int64"
      ]
     },
     "execution_count": 21,
     "metadata": {},
     "output_type": "execute_result"
    }
   ],
   "source": [
    "p_census['Gender'].value_counts()"
   ]
  },
  {
   "cell_type": "markdown",
   "id": "468f174d",
   "metadata": {},
   "source": [
    "##### After checking the Gender, i found out that , theres one missing value in the data set and also, i discovered that some of the main values like Female, Male, female, male where represented by F,M,f,m resepectively, just like marital status"
   ]
  },
  {
   "cell_type": "code",
   "execution_count": 22,
   "id": "7a2d33a0",
   "metadata": {},
   "outputs": [
    {
     "data": {
      "text/plain": [
       "Student                                    1477\n",
       "University Student                          488\n",
       "Unemployed                                  481\n",
       "Child                                       433\n",
       "PhD Student                                  14\n",
       "                                           ... \n",
       "Retired Administrator, local government       1\n",
       "Retired Engineer, communications              1\n",
       "Retired Nurse, adult                          1\n",
       "Retired Music therapist                       1\n",
       "Retired Consulting civil engineer             1\n",
       "Name: Occupation, Length: 1086, dtype: int64"
      ]
     },
     "execution_count": 22,
     "metadata": {},
     "output_type": "execute_result"
    }
   ],
   "source": [
    "p_census['Occupation'].value_counts()"
   ]
  },
  {
   "cell_type": "markdown",
   "id": "2719b3b2",
   "metadata": {},
   "source": [
    "print(list(set(p_census['Occupation'].tolist())))"
   ]
  },
  {
   "cell_type": "markdown",
   "id": "45a05417",
   "metadata": {},
   "source": [
    "#### After explorring of the Occupation column, the following was discovered\n",
    "######    1. Some of the people that aren't retired added extra information to their job role. e.g instead of 'Engineer', we have 'Engineer, Manucfacturer',\n",
    "######    2. Although a lot of people are retired, they seem to also add the job role they retired in\n"
   ]
  },
  {
   "cell_type": "code",
   "execution_count": 23,
   "id": "ae2c6c2e",
   "metadata": {},
   "outputs": [
    {
     "name": "stdout",
     "output_type": "stream",
     "text": [
      "['None' 'Unknown Infection' 'Blind' 'Disabled' ' ' 'Mental Disability'\n",
      " 'Physical Disability' 'Deaf']\n"
     ]
    }
   ],
   "source": [
    "infirmity_unique = p_census[\"Infirmity\"].unique()\n",
    "print(infirmity_unique)"
   ]
  },
  {
   "cell_type": "markdown",
   "id": "2c9b543b",
   "metadata": {},
   "source": [
    "#### After exploring the infirmity column, i discovered that there was one missing value"
   ]
  },
  {
   "cell_type": "code",
   "execution_count": 24,
   "id": "ecf10764",
   "metadata": {},
   "outputs": [
    {
     "name": "stdout",
     "output_type": "stream",
     "text": [
      "['Christian' nan 'None' 'Catholic' 'Methodist' 'Muslim' 'Jewish' 'Sikh'\n",
      " 'Buddist' 'Bahai' 'Sith' 'Private' 'Baptist' ' ' 'Orthodoxy']\n"
     ]
    }
   ],
   "source": [
    "religionunique = p_census[\"Religion\"].unique()\n",
    "print(religionunique)"
   ]
  },
  {
   "cell_type": "code",
   "execution_count": 25,
   "id": "cd019cb8",
   "metadata": {},
   "outputs": [
    {
     "data": {
      "text/plain": [
       "<AxesSubplot: >"
      ]
     },
     "execution_count": 25,
     "metadata": {},
     "output_type": "execute_result"
    },
    {
     "data": {
      "image/png": "[encoded data removed]",
      "text/plain": [
       "<Figure size 640x480 with 1 Axes>"
      ]
     },
     "metadata": {},
     "output_type": "display_data"
    }
   ],
   "source": [
    "p_census['Religion'].value_counts().plot(kind='bar')"
   ]
  },
  {
   "cell_type": "markdown",
   "id": "536d27cd",
   "metadata": {},
   "source": [
    "######  As i analysed  the Religion column, i found out that one of the values doesn't correspond to the term Religion like private . I also discovered a missing value in the dataset "
   ]
  },
  {
   "cell_type": "markdown",
   "id": "eb08e95d",
   "metadata": {},
   "source": [
    "# CLEANING THE DATA"
   ]
  },
  {
   "cell_type": "markdown",
   "id": "da978be7",
   "metadata": {},
   "source": [
    "#####   First House Number"
   ]
  },
  {
   "cell_type": "code",
   "execution_count": 26,
   "id": "1bf196ef",
   "metadata": {},
   "outputs": [],
   "source": [
    "def hnum_string(column: list):\n",
    "    for i, row in enumerate(column):\n",
    "        if row == 'One':\n",
    "            column[i] = 1\n",
    "        else:\n",
    "            column[i] = int(row)\n",
    "    \n",
    "    return column\n",
    "            \n",
    "p_census['House Number'] = hnum_string(p_census['House Number'].tolist())"
   ]
  },
  {
   "cell_type": "code",
   "execution_count": 27,
   "id": "dd2f781d",
   "metadata": {},
   "outputs": [
    {
     "data": {
      "text/plain": [
       "array([  1,   2,   3,   4,   5,   6,   7,   8,   9,  10,  11,  12,  13,\n",
       "        14,  15,  16,  17,  18,  19,  20,  21,  22,  23,  24,  25,  26,\n",
       "        27,  28,  29,  30,  31,  32,  33,  34,  35,  36,  37,  38,  39,\n",
       "        40,  41,  42,  43,  44,  45,  46,  47,  48,  49,  50,  51,  52,\n",
       "        53,  54,  55,  56,  57,  58,  59,  60,  61,  62,  63,  64,  65,\n",
       "        66,  67,  68,  69,  70,  71,  72,  73,  74,  75,  76,  77,  78,\n",
       "        79,  80,  81,  82,  83,  84,  85,  86,  87,  88,  89,  90,  91,\n",
       "        92,  93,  94,  95,  96,  97,  98,  99, 100, 101, 102, 103, 104,\n",
       "       105, 106, 107, 108, 109, 110, 111, 112, 113, 114, 115, 116, 117,\n",
       "       118, 119, 120, 121, 122, 123, 124, 125, 126, 127, 128, 129, 130,\n",
       "       131, 132, 133, 134, 135, 136, 137, 138, 139, 140, 141, 142, 143,\n",
       "       144, 145, 146, 147, 148, 149, 150, 151, 152, 153, 154, 155, 156,\n",
       "       157, 158, 159, 160, 161, 162, 163, 164, 165, 166, 167, 168, 169,\n",
       "       170, 171, 172, 173, 174, 175, 176, 177, 178, 179, 180, 181, 182,\n",
       "       183, 184, 185, 186, 187, 188, 189, 190, 191, 192, 193, 194, 195,\n",
       "       196, 197, 198, 199, 200, 201, 202, 203, 204, 205, 206, 207, 208,\n",
       "       209, 210, 211, 212, 213, 214, 215, 216, 217, 218, 219, 220, 221],\n",
       "      dtype=int64)"
      ]
     },
     "execution_count": 27,
     "metadata": {},
     "output_type": "execute_result"
    }
   ],
   "source": [
    "p_census['House Number'].unique()"
   ]
  },
  {
   "cell_type": "markdown",
   "id": "c0bc6922",
   "metadata": {},
   "source": [
    "###### All values in the House Number column as string  were converted to integers first. \n",
    "###### Before the conversion, a value idenfied as \"one\" was converted back to it's integer format by using replace method"
   ]
  },
  {
   "cell_type": "code",
   "execution_count": 28,
   "id": "adf2dd37",
   "metadata": {},
   "outputs": [
    {
     "name": "stdout",
     "output_type": "stream",
     "text": [
      "<class 'pandas.core.frame.DataFrame'>\n",
      "RangeIndex: 7773 entries, 0 to 7772\n",
      "Data columns (total 11 columns):\n",
      " #   Column                         Non-Null Count  Dtype \n",
      "---  ------                         --------------  ----- \n",
      " 0   House Number                   7773 non-null   int64 \n",
      " 1   Street                         7773 non-null   object\n",
      " 2   First Name                     7773 non-null   object\n",
      " 3   Surname                        7773 non-null   object\n",
      " 4   Age                            7773 non-null   object\n",
      " 5   Relationship to Head of House  7773 non-null   object\n",
      " 6   Marital Status                 5960 non-null   object\n",
      " 7   Gender                         7773 non-null   object\n",
      " 8   Occupation                     7773 non-null   object\n",
      " 9   Infirmity                      7773 non-null   object\n",
      " 10  Religion                       5910 non-null   object\n",
      "dtypes: int64(1), object(10)\n",
      "memory usage: 668.1+ KB\n"
     ]
    }
   ],
   "source": [
    "                 \n",
    "    # we can observe that the house number column has been replaced by integer \n",
    "p_census.info()"
   ]
  },
  {
   "cell_type": "markdown",
   "id": "d0243d04",
   "metadata": {},
   "source": [
    "### Handling Age"
   ]
  },
  {
   "cell_type": "code",
   "execution_count": 29,
   "id": "6e0f8245",
   "metadata": {},
   "outputs": [],
   "source": [
    "p_census[\"Age\"].replace(to_replace = [\"7.11E-15\"], value = 0, inplace = True)# replace \"7.11E-15\" to zero"
   ]
  },
  {
   "cell_type": "code",
   "execution_count": 30,
   "id": "a0a812fe",
   "metadata": {},
   "outputs": [
    {
     "data": {
      "text/html": [
       "<div>\n",
       "<style scoped>\n",
       "    .dataframe tbody tr th:only-of-type {\n",
       "        vertical-align: middle;\n",
       "    }\n",
       "\n",
       "    .dataframe tbody tr th {\n",
       "        vertical-align: top;\n",
       "    }\n",
       "\n",
       "    .dataframe thead th {\n",
       "        text-align: right;\n",
       "    }\n",
       "</style>\n",
       "<table border=\"1\" class=\"dataframe\">\n",
       "  <thead>\n",
       "    <tr style=\"text-align: right;\">\n",
       "      <th></th>\n",
       "      <th>House Number</th>\n",
       "      <th>Street</th>\n",
       "      <th>First Name</th>\n",
       "      <th>Surname</th>\n",
       "      <th>Age</th>\n",
       "      <th>Relationship to Head of House</th>\n",
       "      <th>Marital Status</th>\n",
       "      <th>Gender</th>\n",
       "      <th>Occupation</th>\n",
       "      <th>Infirmity</th>\n",
       "      <th>Religion</th>\n",
       "    </tr>\n",
       "  </thead>\n",
       "  <tbody>\n",
       "    <tr>\n",
       "      <th>5998</th>\n",
       "      <td>40</td>\n",
       "      <td>Skylock Curve</td>\n",
       "      <td>Jodie</td>\n",
       "      <td>Clarke</td>\n",
       "      <td></td>\n",
       "      <td>Daughter</td>\n",
       "      <td>NaN</td>\n",
       "      <td>Female</td>\n",
       "      <td>Child</td>\n",
       "      <td>None</td>\n",
       "      <td>NaN</td>\n",
       "    </tr>\n",
       "  </tbody>\n",
       "</table>\n",
       "</div>"
      ],
      "text/plain": [
       "      House Number         Street First Name Surname Age  \\\n",
       "5998            40  Skylock Curve      Jodie  Clarke       \n",
       "\n",
       "     Relationship to Head of House Marital Status  Gender Occupation  \\\n",
       "5998                      Daughter            NaN  Female      Child   \n",
       "\n",
       "     Infirmity Religion  \n",
       "5998      None      NaN  "
      ]
     },
     "execution_count": 30,
     "metadata": {},
     "output_type": "execute_result"
    }
   ],
   "source": [
    "p_census[5998:5999]"
   ]
  },
  {
   "cell_type": "code",
   "execution_count": 31,
   "id": "2bf95fa3",
   "metadata": {},
   "outputs": [],
   "source": [
    "# Getting a dataframe of all students\n",
    "children = p_census[p_census['Occupation']=='Child']\n",
    "children_age = [i for i in children['Age']]"
   ]
  },
  {
   "cell_type": "code",
   "execution_count": 32,
   "id": "05344dd0",
   "metadata": {},
   "outputs": [
    {
     "name": "stdout",
     "output_type": "stream",
     "text": [
      "433\n",
      "432\n"
     ]
    }
   ],
   "source": [
    "\n",
    "print(len(children_age))\n",
    "children_age.remove(' ')  \n",
    "print(len(children_age)) "
   ]
  },
  {
   "cell_type": "code",
   "execution_count": 33,
   "id": "ceff396f",
   "metadata": {},
   "outputs": [
    {
     "data": {
      "text/plain": [
       "Counter({3: 104, 4: 98, 0: 59, 2: 90, 1: 81})"
      ]
     },
     "execution_count": 33,
     "metadata": {},
     "output_type": "execute_result"
    }
   ],
   "source": [
    "#From this evaluation, the most frequent age of child is 3, so we'll be assigning an age of 3 to jodie clarke\n",
    "from collections import Counter\n",
    "def find_mode(ages):\n",
    "    ages = [int(i) for i in ages]\n",
    "    return Counter(ages)\n",
    "\n",
    "find_mode(children_age)"
   ]
  },
  {
   "cell_type": "code",
   "execution_count": 34,
   "id": "94e50946",
   "metadata": {},
   "outputs": [],
   "source": [
    "def change_age_string(column: list):\n",
    "    for i, row in enumerate(column):\n",
    "        if row == ' ':\n",
    "            column[i] = 3\n",
    "        else:\n",
    "            column[i] = int(float(row))\n",
    "    return column"
   ]
  },
  {
   "cell_type": "code",
   "execution_count": 35,
   "id": "e825e33a",
   "metadata": {},
   "outputs": [],
   "source": [
    "p_census['Age'] = change_age_string(p_census['Age'].tolist())"
   ]
  },
  {
   "cell_type": "code",
   "execution_count": 36,
   "id": "9047dc3c",
   "metadata": {},
   "outputs": [
    {
     "name": "stdout",
     "output_type": "stream",
     "text": [
      "<class 'pandas.core.frame.DataFrame'>\n",
      "RangeIndex: 7773 entries, 0 to 7772\n",
      "Data columns (total 11 columns):\n",
      " #   Column                         Non-Null Count  Dtype \n",
      "---  ------                         --------------  ----- \n",
      " 0   House Number                   7773 non-null   int64 \n",
      " 1   Street                         7773 non-null   object\n",
      " 2   First Name                     7773 non-null   object\n",
      " 3   Surname                        7773 non-null   object\n",
      " 4   Age                            7773 non-null   int64 \n",
      " 5   Relationship to Head of House  7773 non-null   object\n",
      " 6   Marital Status                 5960 non-null   object\n",
      " 7   Gender                         7773 non-null   object\n",
      " 8   Occupation                     7773 non-null   object\n",
      " 9   Infirmity                      7773 non-null   object\n",
      " 10  Religion                       5910 non-null   object\n",
      "dtypes: int64(2), object(9)\n",
      "memory usage: 668.1+ KB\n"
     ]
    }
   ],
   "source": [
    "p_census.info()"
   ]
  },
  {
   "cell_type": "markdown",
   "id": "70310260",
   "metadata": {},
   "source": [
    "\n",
    "####   In the Age column, all values  were converted to integers ,A missing value was identified in the Age column, i noticed that Jodie clarke, a child hadn't input her age. Her age was filled with the mode of children age.\n",
    "\n"
   ]
  },
  {
   "cell_type": "markdown",
   "id": "c020acfd",
   "metadata": {},
   "source": [
    "#### Handling Relationship to the House"
   ]
  },
  {
   "cell_type": "code",
   "execution_count": 37,
   "id": "854bbb66",
   "metadata": {},
   "outputs": [
    {
     "data": {
      "text/plain": [
       "array(['Head', 'Husband', 'Daughter', 'Son', 'None', 'Wife', 'Partner',\n",
       "       'Lodger', 'Sibling', 'Visitor', 'Cousin', 'Adopted Son',\n",
       "       'Granddaughter', 'Grandson', 'Adopted Daughter', 'Step-Son',\n",
       "       'Step-Daughter', 'Neice', 'Nephew', 'Adopted Granddaughter', ' '],\n",
       "      dtype=object)"
      ]
     },
     "execution_count": 37,
     "metadata": {},
     "output_type": "execute_result"
    }
   ],
   "source": [
    "(p_census['Relationship to Head of House'].unique())      \n",
    "\n"
   ]
  },
  {
   "cell_type": "code",
   "execution_count": 38,
   "id": "bd1dab92",
   "metadata": {},
   "outputs": [
    {
     "name": "stdout",
     "output_type": "stream",
     "text": [
      "['Head' 'Husband' 'Daughter' 'Son' 'None' 'Wife' 'Partner' 'Lodger'\n",
      " 'Sibling' 'Visitor' 'Cousin' 'Adopted Son' 'Granddaughter' 'Grandson'\n",
      " 'Adopted Daughter' 'Step-Son' 'Step-Daughter' 'Neice' 'Nephew'\n",
      " 'Adopted Granddaughter' ' ']\n"
     ]
    }
   ],
   "source": [
    "print(p_census['Relationship to Head of House'].unique())"
   ]
  },
  {
   "cell_type": "code",
   "execution_count": 39,
   "id": "ef695d70",
   "metadata": {},
   "outputs": [
    {
     "data": {
      "text/html": [
       "<div>\n",
       "<style scoped>\n",
       "    .dataframe tbody tr th:only-of-type {\n",
       "        vertical-align: middle;\n",
       "    }\n",
       "\n",
       "    .dataframe tbody tr th {\n",
       "        vertical-align: top;\n",
       "    }\n",
       "\n",
       "    .dataframe thead th {\n",
       "        text-align: right;\n",
       "    }\n",
       "</style>\n",
       "<table border=\"1\" class=\"dataframe\">\n",
       "  <thead>\n",
       "    <tr style=\"text-align: right;\">\n",
       "      <th></th>\n",
       "      <th>House Number</th>\n",
       "      <th>Street</th>\n",
       "      <th>First Name</th>\n",
       "      <th>Surname</th>\n",
       "      <th>Age</th>\n",
       "      <th>Relationship to Head of House</th>\n",
       "      <th>Marital Status</th>\n",
       "      <th>Gender</th>\n",
       "      <th>Occupation</th>\n",
       "      <th>Infirmity</th>\n",
       "      <th>Religion</th>\n",
       "    </tr>\n",
       "  </thead>\n",
       "  <tbody>\n",
       "    <tr>\n",
       "      <th>2240</th>\n",
       "      <td>19</td>\n",
       "      <td>Norwich Cliffs</td>\n",
       "      <td>Emily</td>\n",
       "      <td>Hill</td>\n",
       "      <td>19</td>\n",
       "      <td></td>\n",
       "      <td>Single</td>\n",
       "      <td>Female</td>\n",
       "      <td>University Student</td>\n",
       "      <td>None</td>\n",
       "      <td>None</td>\n",
       "    </tr>\n",
       "  </tbody>\n",
       "</table>\n",
       "</div>"
      ],
      "text/plain": [
       "      House Number          Street First Name Surname  Age  \\\n",
       "2240            19  Norwich Cliffs      Emily    Hill   19   \n",
       "\n",
       "     Relationship to Head of House Marital Status  Gender          Occupation  \\\n",
       "2240                                       Single  Female  University Student   \n",
       "\n",
       "     Infirmity Religion  \n",
       "2240      None     None  "
      ]
     },
     "execution_count": 39,
     "metadata": {},
     "output_type": "execute_result"
    }
   ],
   "source": [
    "p_census[p_census['Relationship to Head of House'] == ' ']"
   ]
  },
  {
   "cell_type": "code",
   "execution_count": 40,
   "id": "07788ab7",
   "metadata": {},
   "outputs": [],
   "source": [
    "def rthoh_rep(column: list):\n",
    "    for i, row in enumerate(column):\n",
    "        if row == ' ':\n",
    "            column[i] = 'Unknown'\n",
    "    return column\n",
    "\n",
    "p_census['Relationship to Head of House'] = rthoh_rep(p_census['Relationship to Head of House'].tolist())"
   ]
  },
  {
   "cell_type": "code",
   "execution_count": null,
   "id": "c9b5c9e2",
   "metadata": {},
   "outputs": [],
   "source": []
  },
  {
   "cell_type": "code",
   "execution_count": 41,
   "id": "71e22251",
   "metadata": {},
   "outputs": [
    {
     "data": {
      "text/plain": [
       "<AxesSubplot: >"
      ]
     },
     "execution_count": 41,
     "metadata": {},
     "output_type": "execute_result"
    },
    {
     "data": {
      "image/png": "[encoded data removed]",
      "text/plain": [
       "<Figure size 640x480 with 1 Axes>"
      ]
     },
     "metadata": {},
     "output_type": "display_data"
    }
   ],
   "source": [
    "p_census['Relationship to Head of House'].value_counts().plot(kind='bar')"
   ]
  },
  {
   "cell_type": "markdown",
   "id": "72483d0a",
   "metadata": {},
   "source": [
    "#### One missing value was present in the Relationship to Head of House column and it was replaced with 'Unknown'"
   ]
  },
  {
   "cell_type": "markdown",
   "id": "6f18aa60",
   "metadata": {},
   "source": [
    "### HANDLING MARITAL STATUS"
   ]
  },
  {
   "cell_type": "code",
   "execution_count": 42,
   "id": "1fbfe0eb",
   "metadata": {},
   "outputs": [],
   "source": [
    "mar_status ={\"D\" : \"Divorced\", \"W\" : \"Widowed\", \"M\" : \"Married\" ,\"S\" : \"Single\"}\n",
    "p_census[\"Marital Status\"].replace(mar_status, inplace = True)"
   ]
  },
  {
   "cell_type": "code",
   "execution_count": 43,
   "id": "ecaf3652",
   "metadata": {},
   "outputs": [
    {
     "data": {
      "text/plain": [
       "Single      2661\n",
       "Married     2196\n",
       "Divorced     702\n",
       "Widowed      400\n",
       "               1\n",
       "Name: Marital Status, dtype: int64"
      ]
     },
     "execution_count": 43,
     "metadata": {},
     "output_type": "execute_result"
    }
   ],
   "source": [
    "# sanity check on gender\n",
    "p_census[\"Marital Status\"].value_counts()"
   ]
  },
  {
   "cell_type": "code",
   "execution_count": 44,
   "id": "3996347b",
   "metadata": {},
   "outputs": [
    {
     "data": {
      "text/html": [
       "<div>\n",
       "<style scoped>\n",
       "    .dataframe tbody tr th:only-of-type {\n",
       "        vertical-align: middle;\n",
       "    }\n",
       "\n",
       "    .dataframe tbody tr th {\n",
       "        vertical-align: top;\n",
       "    }\n",
       "\n",
       "    .dataframe thead th {\n",
       "        text-align: right;\n",
       "    }\n",
       "</style>\n",
       "<table border=\"1\" class=\"dataframe\">\n",
       "  <thead>\n",
       "    <tr style=\"text-align: right;\">\n",
       "      <th></th>\n",
       "      <th>House Number</th>\n",
       "      <th>Street</th>\n",
       "      <th>First Name</th>\n",
       "      <th>Surname</th>\n",
       "      <th>Age</th>\n",
       "      <th>Relationship to Head of House</th>\n",
       "      <th>Marital Status</th>\n",
       "      <th>Gender</th>\n",
       "      <th>Occupation</th>\n",
       "      <th>Infirmity</th>\n",
       "      <th>Religion</th>\n",
       "    </tr>\n",
       "  </thead>\n",
       "  <tbody>\n",
       "    <tr>\n",
       "      <th>819</th>\n",
       "      <td>31</td>\n",
       "      <td>Newfound Drive</td>\n",
       "      <td>Hilary</td>\n",
       "      <td>Morgan</td>\n",
       "      <td>22</td>\n",
       "      <td>Daughter</td>\n",
       "      <td></td>\n",
       "      <td>Female</td>\n",
       "      <td>University Student</td>\n",
       "      <td>None</td>\n",
       "      <td>None</td>\n",
       "    </tr>\n",
       "  </tbody>\n",
       "</table>\n",
       "</div>"
      ],
      "text/plain": [
       "     House Number          Street First Name Surname  Age  \\\n",
       "819            31  Newfound Drive     Hilary  Morgan   22   \n",
       "\n",
       "    Relationship to Head of House Marital Status  Gender          Occupation  \\\n",
       "819                      Daughter                 Female  University Student   \n",
       "\n",
       "    Infirmity Religion  \n",
       "819      None     None  "
      ]
     },
     "execution_count": 44,
     "metadata": {},
     "output_type": "execute_result"
    }
   ],
   "source": [
    "p_census[p_census['Marital Status'] == ' ']"
   ]
  },
  {
   "cell_type": "code",
   "execution_count": 45,
   "id": "eb74a257",
   "metadata": {},
   "outputs": [
    {
     "data": {
      "text/plain": [
       "0    Single\n",
       "Name: Marital Status, dtype: object"
      ]
     },
     "execution_count": 45,
     "metadata": {},
     "output_type": "execute_result"
    }
   ],
   "source": [
    "p_census['Marital Status'].mode()"
   ]
  },
  {
   "cell_type": "code",
   "execution_count": 46,
   "id": "75e0c934",
   "metadata": {},
   "outputs": [],
   "source": [
    "p_census['Marital Status'].replace(' ', 'Single', inplace = True)"
   ]
  },
  {
   "cell_type": "code",
   "execution_count": 47,
   "id": "a20c7ebc",
   "metadata": {
    "scrolled": true
   },
   "outputs": [
    {
     "data": {
      "text/plain": [
       "array(['Married', nan, 'Divorced', 'Widowed', 'Single'], dtype=object)"
      ]
     },
     "execution_count": 47,
     "metadata": {},
     "output_type": "execute_result"
    }
   ],
   "source": [
    "p_census['Marital Status'].unique()"
   ]
  },
  {
   "cell_type": "code",
   "execution_count": 48,
   "id": "0b07c3e9",
   "metadata": {},
   "outputs": [
    {
     "data": {
      "text/plain": [
       "Single      2662\n",
       "Married     2196\n",
       "Divorced     702\n",
       "Widowed      400\n",
       "Name: Marital Status, dtype: int64"
      ]
     },
     "execution_count": 48,
     "metadata": {},
     "output_type": "execute_result"
    }
   ],
   "source": [
    "# sanity check on gender\n",
    "p_census[\"Marital Status\"].value_counts()"
   ]
  },
  {
   "cell_type": "markdown",
   "id": "5dc8b502",
   "metadata": {},
   "source": [
    "#### Initials like D, M, S, W was replaced with their full meanings - Divorced, Married, Single, Widowed respectively in marital status and there was one missing value, which was replaced by unknown\n"
   ]
  },
  {
   "cell_type": "code",
   "execution_count": 49,
   "id": "079b9c9f",
   "metadata": {},
   "outputs": [
    {
     "data": {
      "text/html": [
       "<div>\n",
       "<style scoped>\n",
       "    .dataframe tbody tr th:only-of-type {\n",
       "        vertical-align: middle;\n",
       "    }\n",
       "\n",
       "    .dataframe tbody tr th {\n",
       "        vertical-align: top;\n",
       "    }\n",
       "\n",
       "    .dataframe thead th {\n",
       "        text-align: right;\n",
       "    }\n",
       "</style>\n",
       "<table border=\"1\" class=\"dataframe\">\n",
       "  <thead>\n",
       "    <tr style=\"text-align: right;\">\n",
       "      <th></th>\n",
       "      <th>House Number</th>\n",
       "      <th>Street</th>\n",
       "      <th>First Name</th>\n",
       "      <th>Surname</th>\n",
       "      <th>Age</th>\n",
       "      <th>Relationship to Head of House</th>\n",
       "      <th>Marital Status</th>\n",
       "      <th>Gender</th>\n",
       "      <th>Occupation</th>\n",
       "      <th>Infirmity</th>\n",
       "      <th>Religion</th>\n",
       "    </tr>\n",
       "  </thead>\n",
       "  <tbody>\n",
       "    <tr>\n",
       "      <th>2</th>\n",
       "      <td>1</td>\n",
       "      <td>Forgotten Gardens</td>\n",
       "      <td>Nicole</td>\n",
       "      <td>White</td>\n",
       "      <td>15</td>\n",
       "      <td>Daughter</td>\n",
       "      <td>NaN</td>\n",
       "      <td>Female</td>\n",
       "      <td>Student</td>\n",
       "      <td>None</td>\n",
       "      <td>NaN</td>\n",
       "    </tr>\n",
       "    <tr>\n",
       "      <th>4</th>\n",
       "      <td>2</td>\n",
       "      <td>Forgotten Gardens</td>\n",
       "      <td>Jeffrey</td>\n",
       "      <td>John</td>\n",
       "      <td>9</td>\n",
       "      <td>Son</td>\n",
       "      <td>NaN</td>\n",
       "      <td>Male</td>\n",
       "      <td>Student</td>\n",
       "      <td>None</td>\n",
       "      <td>NaN</td>\n",
       "    </tr>\n",
       "    <tr>\n",
       "      <th>7</th>\n",
       "      <td>4</td>\n",
       "      <td>Forgotten Gardens</td>\n",
       "      <td>Gerard</td>\n",
       "      <td>Mills</td>\n",
       "      <td>5</td>\n",
       "      <td>Son</td>\n",
       "      <td>NaN</td>\n",
       "      <td>Male</td>\n",
       "      <td>Student</td>\n",
       "      <td>None</td>\n",
       "      <td>NaN</td>\n",
       "    </tr>\n",
       "    <tr>\n",
       "      <th>8</th>\n",
       "      <td>4</td>\n",
       "      <td>Forgotten Gardens</td>\n",
       "      <td>Anna</td>\n",
       "      <td>Mills</td>\n",
       "      <td>5</td>\n",
       "      <td>Daughter</td>\n",
       "      <td>NaN</td>\n",
       "      <td>Female</td>\n",
       "      <td>Student</td>\n",
       "      <td>None</td>\n",
       "      <td>NaN</td>\n",
       "    </tr>\n",
       "    <tr>\n",
       "      <th>9</th>\n",
       "      <td>4</td>\n",
       "      <td>Forgotten Gardens</td>\n",
       "      <td>Leslie</td>\n",
       "      <td>Jones</td>\n",
       "      <td>3</td>\n",
       "      <td>Son</td>\n",
       "      <td>NaN</td>\n",
       "      <td>Male</td>\n",
       "      <td>Child</td>\n",
       "      <td>None</td>\n",
       "      <td>NaN</td>\n",
       "    </tr>\n",
       "    <tr>\n",
       "      <th>...</th>\n",
       "      <td>...</td>\n",
       "      <td>...</td>\n",
       "      <td>...</td>\n",
       "      <td>...</td>\n",
       "      <td>...</td>\n",
       "      <td>...</td>\n",
       "      <td>...</td>\n",
       "      <td>...</td>\n",
       "      <td>...</td>\n",
       "      <td>...</td>\n",
       "      <td>...</td>\n",
       "    </tr>\n",
       "    <tr>\n",
       "      <th>7747</th>\n",
       "      <td>1</td>\n",
       "      <td>Matthews Rectory</td>\n",
       "      <td>Hollie</td>\n",
       "      <td>Martin</td>\n",
       "      <td>3</td>\n",
       "      <td>Daughter</td>\n",
       "      <td>NaN</td>\n",
       "      <td>Female</td>\n",
       "      <td>Child</td>\n",
       "      <td>None</td>\n",
       "      <td>NaN</td>\n",
       "    </tr>\n",
       "    <tr>\n",
       "      <th>7748</th>\n",
       "      <td>1</td>\n",
       "      <td>Matthews Rectory</td>\n",
       "      <td>Patrick</td>\n",
       "      <td>Martin</td>\n",
       "      <td>0</td>\n",
       "      <td>Son</td>\n",
       "      <td>NaN</td>\n",
       "      <td>Male</td>\n",
       "      <td>Child</td>\n",
       "      <td>None</td>\n",
       "      <td>NaN</td>\n",
       "    </tr>\n",
       "    <tr>\n",
       "      <th>7766</th>\n",
       "      <td>1</td>\n",
       "      <td>Adams Cottage</td>\n",
       "      <td>Tracey</td>\n",
       "      <td>Singh</td>\n",
       "      <td>8</td>\n",
       "      <td>Daughter</td>\n",
       "      <td>NaN</td>\n",
       "      <td>Female</td>\n",
       "      <td>Student</td>\n",
       "      <td>None</td>\n",
       "      <td>NaN</td>\n",
       "    </tr>\n",
       "    <tr>\n",
       "      <th>7767</th>\n",
       "      <td>1</td>\n",
       "      <td>Adams Cottage</td>\n",
       "      <td>Abdul</td>\n",
       "      <td>Singh</td>\n",
       "      <td>8</td>\n",
       "      <td>Son</td>\n",
       "      <td>NaN</td>\n",
       "      <td>Male</td>\n",
       "      <td>Student</td>\n",
       "      <td>None</td>\n",
       "      <td>NaN</td>\n",
       "    </tr>\n",
       "    <tr>\n",
       "      <th>7769</th>\n",
       "      <td>1</td>\n",
       "      <td>Fletcher Farmhouse</td>\n",
       "      <td>Rachael</td>\n",
       "      <td>Hudson</td>\n",
       "      <td>0</td>\n",
       "      <td>Daughter</td>\n",
       "      <td>NaN</td>\n",
       "      <td>Female</td>\n",
       "      <td>Child</td>\n",
       "      <td>None</td>\n",
       "      <td>NaN</td>\n",
       "    </tr>\n",
       "  </tbody>\n",
       "</table>\n",
       "<p>1813 rows × 11 columns</p>\n",
       "</div>"
      ],
      "text/plain": [
       "      House Number              Street First Name Surname  Age  \\\n",
       "2                1   Forgotten Gardens     Nicole   White   15   \n",
       "4                2   Forgotten Gardens    Jeffrey    John    9   \n",
       "7                4   Forgotten Gardens     Gerard   Mills    5   \n",
       "8                4   Forgotten Gardens       Anna   Mills    5   \n",
       "9                4   Forgotten Gardens     Leslie   Jones    3   \n",
       "...            ...                 ...        ...     ...  ...   \n",
       "7747             1    Matthews Rectory     Hollie  Martin    3   \n",
       "7748             1    Matthews Rectory    Patrick  Martin    0   \n",
       "7766             1       Adams Cottage     Tracey   Singh    8   \n",
       "7767             1       Adams Cottage      Abdul   Singh    8   \n",
       "7769             1  Fletcher Farmhouse    Rachael  Hudson    0   \n",
       "\n",
       "     Relationship to Head of House Marital Status  Gender Occupation  \\\n",
       "2                         Daughter            NaN  Female    Student   \n",
       "4                              Son            NaN    Male    Student   \n",
       "7                              Son            NaN    Male    Student   \n",
       "8                         Daughter            NaN  Female    Student   \n",
       "9                              Son            NaN    Male      Child   \n",
       "...                            ...            ...     ...        ...   \n",
       "7747                      Daughter            NaN  Female      Child   \n",
       "7748                           Son            NaN    Male      Child   \n",
       "7766                      Daughter            NaN  Female    Student   \n",
       "7767                           Son            NaN    Male    Student   \n",
       "7769                      Daughter            NaN  Female      Child   \n",
       "\n",
       "     Infirmity Religion  \n",
       "2         None      NaN  \n",
       "4         None      NaN  \n",
       "7         None      NaN  \n",
       "8         None      NaN  \n",
       "9         None      NaN  \n",
       "...        ...      ...  \n",
       "7747      None      NaN  \n",
       "7748      None      NaN  \n",
       "7766      None      NaN  \n",
       "7767      None      NaN  \n",
       "7769      None      NaN  \n",
       "\n",
       "[1813 rows x 11 columns]"
      ]
     },
     "execution_count": 49,
     "metadata": {},
     "output_type": "execute_result"
    }
   ],
   "source": [
    "p_census[(p_census[\"Marital Status\"].isnull()) & (p_census[\"Age\"] < 18)]#check records with null marital status and age up to 18"
   ]
  },
  {
   "cell_type": "code",
   "execution_count": 50,
   "id": "60b12090",
   "metadata": {},
   "outputs": [],
   "source": [
    "# replace the missing values in marital status with under age\n",
    "p_census[\"Marital Status\"].replace(np.nan, \"under_age\", inplace = True)"
   ]
  },
  {
   "cell_type": "code",
   "execution_count": 51,
   "id": "1b64364d",
   "metadata": {},
   "outputs": [
    {
     "name": "stdout",
     "output_type": "stream",
     "text": [
      "<class 'pandas.core.frame.DataFrame'>\n",
      "RangeIndex: 7773 entries, 0 to 7772\n",
      "Data columns (total 11 columns):\n",
      " #   Column                         Non-Null Count  Dtype \n",
      "---  ------                         --------------  ----- \n",
      " 0   House Number                   7773 non-null   int64 \n",
      " 1   Street                         7773 non-null   object\n",
      " 2   First Name                     7773 non-null   object\n",
      " 3   Surname                        7773 non-null   object\n",
      " 4   Age                            7773 non-null   int64 \n",
      " 5   Relationship to Head of House  7773 non-null   object\n",
      " 6   Marital Status                 7773 non-null   object\n",
      " 7   Gender                         7773 non-null   object\n",
      " 8   Occupation                     7773 non-null   object\n",
      " 9   Infirmity                      7773 non-null   object\n",
      " 10  Religion                       5910 non-null   object\n",
      "dtypes: int64(2), object(9)\n",
      "memory usage: 668.1+ KB\n"
     ]
    }
   ],
   "source": [
    "p_census.info()"
   ]
  },
  {
   "cell_type": "code",
   "execution_count": 52,
   "id": "70d32ab9",
   "metadata": {},
   "outputs": [
    {
     "data": {
      "text/plain": [
       "<AxesSubplot: >"
      ]
     },
     "execution_count": 52,
     "metadata": {},
     "output_type": "execute_result"
    },
    {
     "data": {
      "image/png": "[encoded data removed]",
      "text/plain": [
       "<Figure size 640x480 with 1 Axes>"
      ]
     },
     "metadata": {},
     "output_type": "display_data"
    }
   ],
   "source": [
    "p_census['Marital Status'].value_counts().plot(kind='bar')"
   ]
  },
  {
   "cell_type": "markdown",
   "id": "941df869",
   "metadata": {},
   "source": [
    "#### Initials like D, M, S, W was replaced with their full meanings - Divorced, Married, Single, Widowed respectively in marital status and there was one missing value, which was replaced by unknown. Also children under 18 years was classified as under age because they have not reached the legal age to marry \n"
   ]
  },
  {
   "cell_type": "code",
   "execution_count": 53,
   "id": "45cd0dc0",
   "metadata": {},
   "outputs": [
    {
     "data": {
      "text/html": [
       "<div>\n",
       "<style scoped>\n",
       "    .dataframe tbody tr th:only-of-type {\n",
       "        vertical-align: middle;\n",
       "    }\n",
       "\n",
       "    .dataframe tbody tr th {\n",
       "        vertical-align: top;\n",
       "    }\n",
       "\n",
       "    .dataframe thead th {\n",
       "        text-align: right;\n",
       "    }\n",
       "</style>\n",
       "<table border=\"1\" class=\"dataframe\">\n",
       "  <thead>\n",
       "    <tr style=\"text-align: right;\">\n",
       "      <th></th>\n",
       "      <th>House Number</th>\n",
       "      <th>Street</th>\n",
       "      <th>First Name</th>\n",
       "      <th>Surname</th>\n",
       "      <th>Age</th>\n",
       "      <th>Relationship to Head of House</th>\n",
       "      <th>Marital Status</th>\n",
       "      <th>Gender</th>\n",
       "      <th>Occupation</th>\n",
       "      <th>Infirmity</th>\n",
       "      <th>Religion</th>\n",
       "    </tr>\n",
       "  </thead>\n",
       "  <tbody>\n",
       "    <tr>\n",
       "      <th>2033</th>\n",
       "      <td>6</td>\n",
       "      <td>Chester Street</td>\n",
       "      <td>Anne</td>\n",
       "      <td>Thomson</td>\n",
       "      <td>16</td>\n",
       "      <td>Head</td>\n",
       "      <td>Married</td>\n",
       "      <td>Female</td>\n",
       "      <td>Student</td>\n",
       "      <td>None</td>\n",
       "      <td>NaN</td>\n",
       "    </tr>\n",
       "  </tbody>\n",
       "</table>\n",
       "</div>"
      ],
      "text/plain": [
       "      House Number          Street First Name  Surname  Age  \\\n",
       "2033             6  Chester Street       Anne  Thomson   16   \n",
       "\n",
       "     Relationship to Head of House Marital Status  Gender Occupation  \\\n",
       "2033                          Head        Married  Female    Student   \n",
       "\n",
       "     Infirmity Religion  \n",
       "2033      None      NaN  "
      ]
     },
     "execution_count": 53,
     "metadata": {},
     "output_type": "execute_result"
    }
   ],
   "source": [
    "p_census.loc[(p_census['Marital Status']== 'Married') & (p_census['Age'] < 18 )]"
   ]
  },
  {
   "cell_type": "code",
   "execution_count": 54,
   "id": "6ee6f675",
   "metadata": {},
   "outputs": [
    {
     "data": {
      "text/html": [
       "<div>\n",
       "<style scoped>\n",
       "    .dataframe tbody tr th:only-of-type {\n",
       "        vertical-align: middle;\n",
       "    }\n",
       "\n",
       "    .dataframe tbody tr th {\n",
       "        vertical-align: top;\n",
       "    }\n",
       "\n",
       "    .dataframe thead th {\n",
       "        text-align: right;\n",
       "    }\n",
       "</style>\n",
       "<table border=\"1\" class=\"dataframe\">\n",
       "  <thead>\n",
       "    <tr style=\"text-align: right;\">\n",
       "      <th></th>\n",
       "      <th>House Number</th>\n",
       "      <th>Street</th>\n",
       "      <th>First Name</th>\n",
       "      <th>Surname</th>\n",
       "      <th>Age</th>\n",
       "      <th>Relationship to Head of House</th>\n",
       "      <th>Marital Status</th>\n",
       "      <th>Gender</th>\n",
       "      <th>Occupation</th>\n",
       "      <th>Infirmity</th>\n",
       "      <th>Religion</th>\n",
       "    </tr>\n",
       "  </thead>\n",
       "  <tbody>\n",
       "    <tr>\n",
       "      <th>3</th>\n",
       "      <td>2</td>\n",
       "      <td>Forgotten Gardens</td>\n",
       "      <td>Michelle</td>\n",
       "      <td>John</td>\n",
       "      <td>44</td>\n",
       "      <td>Head</td>\n",
       "      <td>Divorced</td>\n",
       "      <td>Female</td>\n",
       "      <td>Administrator, arts</td>\n",
       "      <td>None</td>\n",
       "      <td>Christian</td>\n",
       "    </tr>\n",
       "    <tr>\n",
       "      <th>6</th>\n",
       "      <td>4</td>\n",
       "      <td>Forgotten Gardens</td>\n",
       "      <td>Harry</td>\n",
       "      <td>Mills</td>\n",
       "      <td>38</td>\n",
       "      <td>Head</td>\n",
       "      <td>Divorced</td>\n",
       "      <td>Male</td>\n",
       "      <td>Technical brewer</td>\n",
       "      <td>None</td>\n",
       "      <td>Catholic</td>\n",
       "    </tr>\n",
       "    <tr>\n",
       "      <th>13</th>\n",
       "      <td>6</td>\n",
       "      <td>Forgotten Gardens</td>\n",
       "      <td>Samantha</td>\n",
       "      <td>Lewis</td>\n",
       "      <td>73</td>\n",
       "      <td>Head</td>\n",
       "      <td>Divorced</td>\n",
       "      <td>Female</td>\n",
       "      <td>Retired Brewing technologist</td>\n",
       "      <td>None</td>\n",
       "      <td>Christian</td>\n",
       "    </tr>\n",
       "    <tr>\n",
       "      <th>15</th>\n",
       "      <td>6</td>\n",
       "      <td>Forgotten Gardens</td>\n",
       "      <td>Charles</td>\n",
       "      <td>Lewis</td>\n",
       "      <td>41</td>\n",
       "      <td>Son</td>\n",
       "      <td>Divorced</td>\n",
       "      <td>Male</td>\n",
       "      <td>Surveyor, minerals</td>\n",
       "      <td>None</td>\n",
       "      <td>None</td>\n",
       "    </tr>\n",
       "    <tr>\n",
       "      <th>21</th>\n",
       "      <td>8</td>\n",
       "      <td>Forgotten Gardens</td>\n",
       "      <td>Catherine</td>\n",
       "      <td>Cox</td>\n",
       "      <td>38</td>\n",
       "      <td>Head</td>\n",
       "      <td>Divorced</td>\n",
       "      <td>Female</td>\n",
       "      <td>Unemployed</td>\n",
       "      <td>None</td>\n",
       "      <td>None</td>\n",
       "    </tr>\n",
       "    <tr>\n",
       "      <th>...</th>\n",
       "      <td>...</td>\n",
       "      <td>...</td>\n",
       "      <td>...</td>\n",
       "      <td>...</td>\n",
       "      <td>...</td>\n",
       "      <td>...</td>\n",
       "      <td>...</td>\n",
       "      <td>...</td>\n",
       "      <td>...</td>\n",
       "      <td>...</td>\n",
       "      <td>...</td>\n",
       "    </tr>\n",
       "    <tr>\n",
       "      <th>7723</th>\n",
       "      <td>1</td>\n",
       "      <td>Dixon Longhouse</td>\n",
       "      <td>Vanessa</td>\n",
       "      <td>Parkinson</td>\n",
       "      <td>39</td>\n",
       "      <td>Head</td>\n",
       "      <td>Divorced</td>\n",
       "      <td>Female</td>\n",
       "      <td>Doctor, hospital</td>\n",
       "      <td>None</td>\n",
       "      <td>Christian</td>\n",
       "    </tr>\n",
       "    <tr>\n",
       "      <th>7734</th>\n",
       "      <td>1</td>\n",
       "      <td>Brown Obervatory</td>\n",
       "      <td>Naomi</td>\n",
       "      <td>Porter</td>\n",
       "      <td>23</td>\n",
       "      <td>Lodger</td>\n",
       "      <td>Divorced</td>\n",
       "      <td>Female</td>\n",
       "      <td>Travel agency manager</td>\n",
       "      <td>None</td>\n",
       "      <td>Catholic</td>\n",
       "    </tr>\n",
       "    <tr>\n",
       "      <th>7746</th>\n",
       "      <td>1</td>\n",
       "      <td>Matthews Rectory</td>\n",
       "      <td>Marian</td>\n",
       "      <td>Martin</td>\n",
       "      <td>42</td>\n",
       "      <td>Head</td>\n",
       "      <td>Divorced</td>\n",
       "      <td>Female</td>\n",
       "      <td>Oceanographer</td>\n",
       "      <td>None</td>\n",
       "      <td>Christian</td>\n",
       "    </tr>\n",
       "    <tr>\n",
       "      <th>7768</th>\n",
       "      <td>1</td>\n",
       "      <td>Fletcher Farmhouse</td>\n",
       "      <td>Beverley</td>\n",
       "      <td>Hudson</td>\n",
       "      <td>30</td>\n",
       "      <td>Head</td>\n",
       "      <td>Divorced</td>\n",
       "      <td>Female</td>\n",
       "      <td>Research officer, trade union</td>\n",
       "      <td>None</td>\n",
       "      <td>Christian</td>\n",
       "    </tr>\n",
       "    <tr>\n",
       "      <th>7770</th>\n",
       "      <td>1</td>\n",
       "      <td>Fletcher Farmhouse</td>\n",
       "      <td>Stephen</td>\n",
       "      <td>Shepherd</td>\n",
       "      <td>54</td>\n",
       "      <td>Sibling</td>\n",
       "      <td>Divorced</td>\n",
       "      <td>Male</td>\n",
       "      <td>Accountant, chartered public finance</td>\n",
       "      <td>None</td>\n",
       "      <td>None</td>\n",
       "    </tr>\n",
       "  </tbody>\n",
       "</table>\n",
       "<p>678 rows × 11 columns</p>\n",
       "</div>"
      ],
      "text/plain": [
       "      House Number              Street First Name    Surname  Age  \\\n",
       "3                2   Forgotten Gardens   Michelle       John   44   \n",
       "6                4   Forgotten Gardens      Harry      Mills   38   \n",
       "13               6   Forgotten Gardens   Samantha      Lewis   73   \n",
       "15               6   Forgotten Gardens    Charles      Lewis   41   \n",
       "21               8   Forgotten Gardens  Catherine        Cox   38   \n",
       "...            ...                 ...        ...        ...  ...   \n",
       "7723             1     Dixon Longhouse    Vanessa  Parkinson   39   \n",
       "7734             1    Brown Obervatory      Naomi     Porter   23   \n",
       "7746             1    Matthews Rectory     Marian     Martin   42   \n",
       "7768             1  Fletcher Farmhouse   Beverley     Hudson   30   \n",
       "7770             1  Fletcher Farmhouse    Stephen   Shepherd   54   \n",
       "\n",
       "     Relationship to Head of House Marital Status  Gender  \\\n",
       "3                             Head       Divorced  Female   \n",
       "6                             Head       Divorced    Male   \n",
       "13                            Head       Divorced  Female   \n",
       "15                             Son       Divorced    Male   \n",
       "21                            Head       Divorced  Female   \n",
       "...                            ...            ...     ...   \n",
       "7723                          Head       Divorced  Female   \n",
       "7734                        Lodger       Divorced  Female   \n",
       "7746                          Head       Divorced  Female   \n",
       "7768                          Head       Divorced  Female   \n",
       "7770                       Sibling       Divorced    Male   \n",
       "\n",
       "                                Occupation Infirmity   Religion  \n",
       "3                      Administrator, arts      None  Christian  \n",
       "6                         Technical brewer      None   Catholic  \n",
       "13            Retired Brewing technologist      None  Christian  \n",
       "15                      Surveyor, minerals      None       None  \n",
       "21                              Unemployed      None       None  \n",
       "...                                    ...       ...        ...  \n",
       "7723                      Doctor, hospital      None  Christian  \n",
       "7734                 Travel agency manager      None   Catholic  \n",
       "7746                         Oceanographer      None  Christian  \n",
       "7768         Research officer, trade union      None  Christian  \n",
       "7770  Accountant, chartered public finance      None       None  \n",
       "\n",
       "[678 rows x 11 columns]"
      ]
     },
     "execution_count": 54,
     "metadata": {},
     "output_type": "execute_result"
    }
   ],
   "source": [
    "p_census.loc[(p_census['Marital Status']== 'Divorced') & (p_census['Age'] > 18 )]"
   ]
  },
  {
   "cell_type": "code",
   "execution_count": 55,
   "id": "f06b8448",
   "metadata": {},
   "outputs": [
    {
     "data": {
      "text/html": [
       "<div>\n",
       "<style scoped>\n",
       "    .dataframe tbody tr th:only-of-type {\n",
       "        vertical-align: middle;\n",
       "    }\n",
       "\n",
       "    .dataframe tbody tr th {\n",
       "        vertical-align: top;\n",
       "    }\n",
       "\n",
       "    .dataframe thead th {\n",
       "        text-align: right;\n",
       "    }\n",
       "</style>\n",
       "<table border=\"1\" class=\"dataframe\">\n",
       "  <thead>\n",
       "    <tr style=\"text-align: right;\">\n",
       "      <th></th>\n",
       "      <th>House Number</th>\n",
       "      <th>Street</th>\n",
       "      <th>First Name</th>\n",
       "      <th>Surname</th>\n",
       "      <th>Age</th>\n",
       "      <th>Relationship to Head of House</th>\n",
       "      <th>Marital Status</th>\n",
       "      <th>Gender</th>\n",
       "      <th>Occupation</th>\n",
       "      <th>Infirmity</th>\n",
       "      <th>Religion</th>\n",
       "    </tr>\n",
       "  </thead>\n",
       "  <tbody>\n",
       "    <tr>\n",
       "      <th>2033</th>\n",
       "      <td>6</td>\n",
       "      <td>Chester Street</td>\n",
       "      <td>Anne</td>\n",
       "      <td>Thomson</td>\n",
       "      <td>16</td>\n",
       "      <td>Head</td>\n",
       "      <td>Married</td>\n",
       "      <td>Female</td>\n",
       "      <td>Student</td>\n",
       "      <td>None</td>\n",
       "      <td>NaN</td>\n",
       "    </tr>\n",
       "    <tr>\n",
       "      <th>5607</th>\n",
       "      <td>1</td>\n",
       "      <td>Kielder Avenue</td>\n",
       "      <td>Joanna</td>\n",
       "      <td>Webb</td>\n",
       "      <td>16</td>\n",
       "      <td>Head</td>\n",
       "      <td>Single</td>\n",
       "      <td>Female</td>\n",
       "      <td>Unemployed</td>\n",
       "      <td>None</td>\n",
       "      <td>NaN</td>\n",
       "    </tr>\n",
       "  </tbody>\n",
       "</table>\n",
       "</div>"
      ],
      "text/plain": [
       "      House Number          Street First Name  Surname  Age  \\\n",
       "2033             6  Chester Street       Anne  Thomson   16   \n",
       "5607             1  Kielder Avenue     Joanna     Webb   16   \n",
       "\n",
       "     Relationship to Head of House Marital Status  Gender  Occupation  \\\n",
       "2033                          Head        Married  Female     Student   \n",
       "5607                          Head         Single  Female  Unemployed   \n",
       "\n",
       "     Infirmity Religion  \n",
       "2033      None      NaN  \n",
       "5607      None      NaN  "
      ]
     },
     "execution_count": 55,
     "metadata": {},
     "output_type": "execute_result"
    }
   ],
   "source": [
    "p_census.loc[(p_census['Relationship to Head of House']== 'Head') & (p_census['Age'] < 18 )]"
   ]
  },
  {
   "cell_type": "code",
   "execution_count": null,
   "id": "2e6ebbc4",
   "metadata": {},
   "outputs": [],
   "source": []
  },
  {
   "cell_type": "code",
   "execution_count": null,
   "id": "6207b0cb",
   "metadata": {},
   "outputs": [],
   "source": []
  },
  {
   "cell_type": "markdown",
   "id": "3d412b78",
   "metadata": {},
   "source": [
    "## HANDLING GENDER"
   ]
  },
  {
   "cell_type": "code",
   "execution_count": 56,
   "id": "3149bd94",
   "metadata": {},
   "outputs": [],
   "source": [
    "sex ={\"female\" : \"Female\" , \"f\" : \"Female\", \"F\" : \"Female\", \"male\" : \"Male\", \"M\" : \"Male\", \"m\" : \"Male\"}\n",
    "p_census[\"Gender\"].replace(sex, inplace = True)"
   ]
  },
  {
   "cell_type": "code",
   "execution_count": 57,
   "id": "13a9e8ae",
   "metadata": {},
   "outputs": [
    {
     "data": {
      "text/plain": [
       "Female    4016\n",
       "Male      3756\n",
       "             1\n",
       "Name: Gender, dtype: int64"
      ]
     },
     "execution_count": 57,
     "metadata": {},
     "output_type": "execute_result"
    }
   ],
   "source": [
    "# sanity check on gender\n",
    "p_census[\"Gender\"].value_counts()"
   ]
  },
  {
   "cell_type": "code",
   "execution_count": 58,
   "id": "7537ad92",
   "metadata": {},
   "outputs": [
    {
     "data": {
      "text/html": [
       "<div>\n",
       "<style scoped>\n",
       "    .dataframe tbody tr th:only-of-type {\n",
       "        vertical-align: middle;\n",
       "    }\n",
       "\n",
       "    .dataframe tbody tr th {\n",
       "        vertical-align: top;\n",
       "    }\n",
       "\n",
       "    .dataframe thead th {\n",
       "        text-align: right;\n",
       "    }\n",
       "</style>\n",
       "<table border=\"1\" class=\"dataframe\">\n",
       "  <thead>\n",
       "    <tr style=\"text-align: right;\">\n",
       "      <th></th>\n",
       "      <th>House Number</th>\n",
       "      <th>Street</th>\n",
       "      <th>First Name</th>\n",
       "      <th>Surname</th>\n",
       "      <th>Age</th>\n",
       "      <th>Relationship to Head of House</th>\n",
       "      <th>Marital Status</th>\n",
       "      <th>Gender</th>\n",
       "      <th>Occupation</th>\n",
       "      <th>Infirmity</th>\n",
       "      <th>Religion</th>\n",
       "    </tr>\n",
       "  </thead>\n",
       "  <tbody>\n",
       "    <tr>\n",
       "      <th>5394</th>\n",
       "      <td>13</td>\n",
       "      <td>Simpson Flats</td>\n",
       "      <td>Antony</td>\n",
       "      <td>Welch-Martin</td>\n",
       "      <td>61</td>\n",
       "      <td>Husband</td>\n",
       "      <td>Married</td>\n",
       "      <td></td>\n",
       "      <td>Psychologist, prison and probation services</td>\n",
       "      <td>None</td>\n",
       "      <td>Catholic</td>\n",
       "    </tr>\n",
       "  </tbody>\n",
       "</table>\n",
       "</div>"
      ],
      "text/plain": [
       "      House Number         Street First Name       Surname  Age  \\\n",
       "5394            13  Simpson Flats     Antony  Welch-Martin   61   \n",
       "\n",
       "     Relationship to Head of House Marital Status Gender  \\\n",
       "5394                       Husband        Married          \n",
       "\n",
       "                                       Occupation Infirmity  Religion  \n",
       "5394  Psychologist, prison and probation services      None  Catholic  "
      ]
     },
     "execution_count": 58,
     "metadata": {},
     "output_type": "execute_result"
    }
   ],
   "source": [
    "#confirming Gender with Relationship to head of house so as to be sure of gender for the missing cell\n",
    "p_census[p_census['Gender'] == ' ']"
   ]
  },
  {
   "cell_type": "code",
   "execution_count": 59,
   "id": "98844067",
   "metadata": {},
   "outputs": [],
   "source": [
    "p_census['Gender'].replace(' ', 'Male', inplace = True)"
   ]
  },
  {
   "cell_type": "code",
   "execution_count": 60,
   "id": "00327e59",
   "metadata": {},
   "outputs": [
    {
     "data": {
      "text/plain": [
       "Female    4016\n",
       "Male      3757\n",
       "Name: Gender, dtype: int64"
      ]
     },
     "execution_count": 60,
     "metadata": {},
     "output_type": "execute_result"
    }
   ],
   "source": [
    "# sanity check on gender\n",
    "p_census[\"Gender\"].value_counts()"
   ]
  },
  {
   "cell_type": "code",
   "execution_count": 61,
   "id": "63e46aa8",
   "metadata": {},
   "outputs": [
    {
     "data": {
      "text/plain": [
       "array(['Female', 'Male'], dtype=object)"
      ]
     },
     "execution_count": 61,
     "metadata": {},
     "output_type": "execute_result"
    }
   ],
   "source": [
    "p_census['Gender'].unique()"
   ]
  },
  {
   "cell_type": "markdown",
   "id": "f4d16ef7",
   "metadata": {},
   "source": [
    "###  In the gender column, all others not Male or Female but corresponding to either of the two was replaced with their intended equivalent.\n",
    "\n",
    "### The only missing value was male since , the name and relationship to head of house is a masculine gender"
   ]
  },
  {
   "cell_type": "markdown",
   "id": "1c0b2806",
   "metadata": {},
   "source": [
    "### HANDLING OCCUPATION"
   ]
  },
  {
   "cell_type": "code",
   "execution_count": 62,
   "id": "afe9fba9",
   "metadata": {},
   "outputs": [
    {
     "data": {
      "text/plain": [
       "0                                     Unemployed\n",
       "1                   Education officer, community\n",
       "2                                        Student\n",
       "3                            Administrator, arts\n",
       "4                                        Student\n",
       "                          ...                   \n",
       "7768               Research officer, trade union\n",
       "7769                                       Child\n",
       "7770        Accountant, chartered public finance\n",
       "7771                                  Unemployed\n",
       "7772    Geographical information systems officer\n",
       "Name: Occupation, Length: 7773, dtype: object"
      ]
     },
     "execution_count": 62,
     "metadata": {},
     "output_type": "execute_result"
    }
   ],
   "source": [
    "p_census[\"Occupation\"]"
   ]
  },
  {
   "cell_type": "code",
   "execution_count": 63,
   "id": "a4251c22",
   "metadata": {},
   "outputs": [
    {
     "data": {
      "text/plain": [
       "Retired Consulting civil engineer         1\n",
       "Retired Dramatherapist                    1\n",
       "Retired Conservator, museum/gallery       1\n",
       "Retired Media buyer                       1\n",
       "Retired Building services engineer        1\n",
       "                                       ... \n",
       "PhD Student                              14\n",
       "Child                                   433\n",
       "Unemployed                              481\n",
       "University Student                      488\n",
       "Student                                1477\n",
       "Name: Occupation, Length: 1086, dtype: int64"
      ]
     },
     "execution_count": 63,
     "metadata": {},
     "output_type": "execute_result"
    }
   ],
   "source": [
    "p_census[\"Occupation\"].value_counts().sort_values()#sorting by number of people in occupations."
   ]
  },
  {
   "cell_type": "code",
   "execution_count": 64,
   "id": "129b2c26",
   "metadata": {},
   "outputs": [],
   "source": [
    "def repl_ret(col):\n",
    "    if col.startswith(\"Retired\"):\n",
    "        retired = col.split()[0]\n",
    "        return retired\n",
    "    else:\n",
    "        return col"
   ]
  },
  {
   "cell_type": "code",
   "execution_count": 65,
   "id": "9abfb339",
   "metadata": {},
   "outputs": [],
   "source": [
    "p_census[\"Occupation\"] = p_census[\"Occupation\"].apply(repl_ret)   # do not create a new column"
   ]
  },
  {
   "cell_type": "code",
   "execution_count": null,
   "id": "9d623e21",
   "metadata": {},
   "outputs": [],
   "source": []
  },
  {
   "cell_type": "code",
   "execution_count": null,
   "id": "3d937012",
   "metadata": {},
   "outputs": [],
   "source": []
  },
  {
   "cell_type": "markdown",
   "id": "25e0d45c",
   "metadata": {},
   "source": [
    "#### HANDLING INFIRMITY"
   ]
  },
  {
   "cell_type": "code",
   "execution_count": 66,
   "id": "b1ca25c8",
   "metadata": {},
   "outputs": [
    {
     "data": {
      "text/plain": [
       "None                   7721\n",
       "Unknown Infection        10\n",
       "Blind                    10\n",
       "Physical Disability       8\n",
       "Disabled                  7\n",
       "                          6\n",
       "Mental Disability         6\n",
       "Deaf                      5\n",
       "Name: Infirmity, dtype: int64"
      ]
     },
     "execution_count": 66,
     "metadata": {},
     "output_type": "execute_result"
    }
   ],
   "source": [
    "p_census['Infirmity'].value_counts()"
   ]
  },
  {
   "cell_type": "code",
   "execution_count": 67,
   "id": "d7475823",
   "metadata": {},
   "outputs": [],
   "source": [
    "def repair_infirmity(column: list):\n",
    "    for i, row in enumerate(column):\n",
    "        if row == ' ':\n",
    "            column[i] = 'Unknown'\n",
    "    return column\n",
    "\n",
    "p_census['Infirmity'] = repair_infirmity(p_census['Infirmity'].tolist())"
   ]
  },
  {
   "cell_type": "code",
   "execution_count": 68,
   "id": "874892ba",
   "metadata": {},
   "outputs": [
    {
     "data": {
      "text/plain": [
       "None                   7721\n",
       "Unknown Infection        10\n",
       "Blind                    10\n",
       "Physical Disability       8\n",
       "Disabled                  7\n",
       "Unknown                   6\n",
       "Mental Disability         6\n",
       "Deaf                      5\n",
       "Name: Infirmity, dtype: int64"
      ]
     },
     "execution_count": 68,
     "metadata": {},
     "output_type": "execute_result"
    }
   ],
   "source": [
    "p_census['Infirmity'].value_counts()"
   ]
  },
  {
   "cell_type": "markdown",
   "id": "03ed70e8",
   "metadata": {},
   "source": [
    "#### There were 6 missing values in the infirmity columns and it was  filled with 'Unknown'"
   ]
  },
  {
   "cell_type": "markdown",
   "id": "69f0f7d6",
   "metadata": {},
   "source": [
    "#### TREATING RELIGION"
   ]
  },
  {
   "cell_type": "code",
   "execution_count": 69,
   "id": "0f54438f",
   "metadata": {},
   "outputs": [
    {
     "data": {
      "text/plain": [
       "<AxesSubplot: >"
      ]
     },
     "execution_count": 69,
     "metadata": {},
     "output_type": "execute_result"
    },
    {
     "data": {
      "image/png": "[encoded data removed]",
      "text/plain": [
       "<Figure size 640x480 with 1 Axes>"
      ]
     },
     "metadata": {},
     "output_type": "display_data"
    }
   ],
   "source": [
    "p_census['Religion'].value_counts().plot(kind='bar')"
   ]
  },
  {
   "cell_type": "code",
   "execution_count": 70,
   "id": "48a0f91a",
   "metadata": {},
   "outputs": [
    {
     "data": {
      "text/plain": [
       "array(['Christian', nan, 'None', 'Catholic', 'Methodist', 'Muslim',\n",
       "       'Jewish', 'Sikh', 'Buddist', 'Bahai', 'Sith', 'Private', 'Baptist',\n",
       "       ' ', 'Orthodoxy'], dtype=object)"
      ]
     },
     "execution_count": 70,
     "metadata": {},
     "output_type": "execute_result"
    }
   ],
   "source": [
    "p_census['Religion'].unique()"
   ]
  },
  {
   "cell_type": "code",
   "execution_count": 71,
   "id": "1dc73c4c",
   "metadata": {},
   "outputs": [],
   "source": [
    "p_census['Religion'] = p_census['Religion'].replace(np.nan,'None')\n",
    "p_census['Religion'] = p_census['Religion'].replace(' ','None')\n",
    "p_census['Religion'] = p_census['Religion'].replace('Private','None')\n",
    "p_census['Religion'] = p_census['Religion'].replace('Methodist','Christian')\n",
    "p_census['Religion'] = p_census['Religion'].replace('Baptist','Christian')\n",
    "p_census['Religion'] = p_census['Religion'].replace('Private','None')\n",
    "p_census['Religion'] = p_census['Religion'].replace('Bahai','Others')\n",
    "p_census['Religion'] = p_census['Religion'].replace('Sith','Others')\n",
    "p_census['Religion'] = p_census['Religion'].replace('Orthodoxy','Others')\n",
    "p_census['Religion'] = p_census['Religion'].replace('Buddist','Others')\n"
   ]
  },
  {
   "cell_type": "code",
   "execution_count": 72,
   "id": "17ca2e19",
   "metadata": {},
   "outputs": [
    {
     "data": {
      "text/plain": [
       "array(['Christian', 'None', 'Catholic', 'Muslim', 'Jewish', 'Sikh',\n",
       "       'Others'], dtype=object)"
      ]
     },
     "execution_count": 72,
     "metadata": {},
     "output_type": "execute_result"
    }
   ],
   "source": [
    "p_census['Religion'].unique()"
   ]
  },
  {
   "cell_type": "code",
   "execution_count": 73,
   "id": "224578e5",
   "metadata": {},
   "outputs": [
    {
     "data": {
      "text/plain": [
       "<AxesSubplot: >"
      ]
     },
     "execution_count": 73,
     "metadata": {},
     "output_type": "execute_result"
    },
    {
     "data": {
      "image/png": "[encoded data removed]",
      "text/plain": [
       "<Figure size 640x480 with 1 Axes>"
      ]
     },
     "metadata": {},
     "output_type": "display_data"
    }
   ],
   "source": [
    "p_census['Religion'].value_counts().plot(kind='bar')"
   ]
  },
  {
   "cell_type": "code",
   "execution_count": 74,
   "id": "7432c41c",
   "metadata": {},
   "outputs": [
    {
     "data": {
      "text/html": [
       "<div>\n",
       "<style scoped>\n",
       "    .dataframe tbody tr th:only-of-type {\n",
       "        vertical-align: middle;\n",
       "    }\n",
       "\n",
       "    .dataframe tbody tr th {\n",
       "        vertical-align: top;\n",
       "    }\n",
       "\n",
       "    .dataframe thead th {\n",
       "        text-align: right;\n",
       "    }\n",
       "</style>\n",
       "<table border=\"1\" class=\"dataframe\">\n",
       "  <thead>\n",
       "    <tr style=\"text-align: right;\">\n",
       "      <th></th>\n",
       "      <th>House Number</th>\n",
       "      <th>Street</th>\n",
       "      <th>First Name</th>\n",
       "      <th>Surname</th>\n",
       "      <th>Age</th>\n",
       "      <th>Relationship to Head of House</th>\n",
       "      <th>Marital Status</th>\n",
       "      <th>Gender</th>\n",
       "      <th>Occupation</th>\n",
       "      <th>Infirmity</th>\n",
       "      <th>Religion</th>\n",
       "    </tr>\n",
       "  </thead>\n",
       "  <tbody>\n",
       "    <tr>\n",
       "      <th>949</th>\n",
       "      <td>16</td>\n",
       "      <td>Newfound Creek</td>\n",
       "      <td>Danielle</td>\n",
       "      <td>Wood</td>\n",
       "      <td>70</td>\n",
       "      <td>Head</td>\n",
       "      <td>Single</td>\n",
       "      <td>Female</td>\n",
       "      <td></td>\n",
       "      <td>None</td>\n",
       "      <td>Christian</td>\n",
       "    </tr>\n",
       "  </tbody>\n",
       "</table>\n",
       "</div>"
      ],
      "text/plain": [
       "     House Number          Street First Name Surname  Age  \\\n",
       "949            16  Newfound Creek   Danielle    Wood   70   \n",
       "\n",
       "    Relationship to Head of House Marital Status  Gender Occupation Infirmity  \\\n",
       "949                          Head         Single  Female                 None   \n",
       "\n",
       "      Religion  \n",
       "949  Christian  "
      ]
     },
     "execution_count": 74,
     "metadata": {},
     "output_type": "execute_result"
    }
   ],
   "source": [
    "p_census[p_census['Occupation'] == ' ']"
   ]
  },
  {
   "cell_type": "code",
   "execution_count": 75,
   "id": "3d9d1492",
   "metadata": {},
   "outputs": [],
   "source": [
    "p_census['Occupation'].replace(' ', 'Retired', inplace = True)"
   ]
  },
  {
   "cell_type": "code",
   "execution_count": 76,
   "id": "cb856232",
   "metadata": {},
   "outputs": [
    {
     "data": {
      "text/html": [
       "<div>\n",
       "<style scoped>\n",
       "    .dataframe tbody tr th:only-of-type {\n",
       "        vertical-align: middle;\n",
       "    }\n",
       "\n",
       "    .dataframe tbody tr th {\n",
       "        vertical-align: top;\n",
       "    }\n",
       "\n",
       "    .dataframe thead th {\n",
       "        text-align: right;\n",
       "    }\n",
       "</style>\n",
       "<table border=\"1\" class=\"dataframe\">\n",
       "  <thead>\n",
       "    <tr style=\"text-align: right;\">\n",
       "      <th></th>\n",
       "      <th>House Number</th>\n",
       "      <th>Street</th>\n",
       "      <th>First Name</th>\n",
       "      <th>Surname</th>\n",
       "      <th>Age</th>\n",
       "      <th>Relationship to Head of House</th>\n",
       "      <th>Marital Status</th>\n",
       "      <th>Gender</th>\n",
       "      <th>Occupation</th>\n",
       "      <th>Infirmity</th>\n",
       "      <th>Religion</th>\n",
       "    </tr>\n",
       "  </thead>\n",
       "  <tbody>\n",
       "    <tr>\n",
       "      <th>949</th>\n",
       "      <td>16</td>\n",
       "      <td>Newfound Creek</td>\n",
       "      <td>Danielle</td>\n",
       "      <td>Wood</td>\n",
       "      <td>70</td>\n",
       "      <td>Head</td>\n",
       "      <td>Single</td>\n",
       "      <td>Female</td>\n",
       "      <td>Retired</td>\n",
       "      <td>None</td>\n",
       "      <td>Christian</td>\n",
       "    </tr>\n",
       "  </tbody>\n",
       "</table>\n",
       "</div>"
      ],
      "text/plain": [
       "     House Number          Street First Name Surname  Age  \\\n",
       "949            16  Newfound Creek   Danielle    Wood   70   \n",
       "\n",
       "    Relationship to Head of House Marital Status  Gender Occupation Infirmity  \\\n",
       "949                          Head         Single  Female    Retired      None   \n",
       "\n",
       "      Religion  \n",
       "949  Christian  "
      ]
     },
     "execution_count": 76,
     "metadata": {},
     "output_type": "execute_result"
    }
   ],
   "source": [
    "p_census[949 : 950]"
   ]
  },
  {
   "cell_type": "markdown",
   "id": "d756250e",
   "metadata": {},
   "source": [
    "#### Private was added to none because, there's no religion called by private. And the missing value was replaced by none too "
   ]
  },
  {
   "cell_type": "code",
   "execution_count": 77,
   "id": "9b171d74",
   "metadata": {},
   "outputs": [
    {
     "name": "stdout",
     "output_type": "stream",
     "text": [
      "<class 'pandas.core.frame.DataFrame'>\n",
      "RangeIndex: 7773 entries, 0 to 7772\n",
      "Data columns (total 11 columns):\n",
      " #   Column                         Non-Null Count  Dtype \n",
      "---  ------                         --------------  ----- \n",
      " 0   House Number                   7773 non-null   int64 \n",
      " 1   Street                         7773 non-null   object\n",
      " 2   First Name                     7773 non-null   object\n",
      " 3   Surname                        7773 non-null   object\n",
      " 4   Age                            7773 non-null   int64 \n",
      " 5   Relationship to Head of House  7773 non-null   object\n",
      " 6   Marital Status                 7773 non-null   object\n",
      " 7   Gender                         7773 non-null   object\n",
      " 8   Occupation                     7773 non-null   object\n",
      " 9   Infirmity                      7773 non-null   object\n",
      " 10  Religion                       7773 non-null   object\n",
      "dtypes: int64(2), object(9)\n",
      "memory usage: 668.1+ KB\n"
     ]
    }
   ],
   "source": [
    "p_census.info()"
   ]
  },
  {
   "cell_type": "markdown",
   "id": "4644e8b6",
   "metadata": {},
   "source": [
    "### VISUALIZATION"
   ]
  },
  {
   "cell_type": "code",
   "execution_count": 78,
   "id": "80ec05eb",
   "metadata": {},
   "outputs": [
    {
     "data": {
      "text/plain": [
       "House Number                      int64\n",
       "Street                           object\n",
       "First Name                       object\n",
       "Surname                          object\n",
       "Age                               int64\n",
       "Relationship to Head of House    object\n",
       "Marital Status                   object\n",
       "Gender                           object\n",
       "Occupation                       object\n",
       "Infirmity                        object\n",
       "Religion                         object\n",
       "dtype: object"
      ]
     },
     "execution_count": 78,
     "metadata": {},
     "output_type": "execute_result"
    }
   ],
   "source": [
    "p_census.dtypes"
   ]
  },
  {
   "cell_type": "markdown",
   "id": "0f3e847c",
   "metadata": {},
   "source": [
    "## Visualizing Age and Age Pyramid"
   ]
  },
  {
   "cell_type": "markdown",
   "id": "65263951",
   "metadata": {},
   "source": [
    "## Age"
   ]
  },
  {
   "cell_type": "code",
   "execution_count": 79,
   "id": "4a66e2fd",
   "metadata": {},
   "outputs": [
    {
     "data": {
      "text/plain": [
       "count    7773.000000\n",
       "mean       36.501737\n",
       "std        21.836910\n",
       "min         0.000000\n",
       "25%        19.000000\n",
       "50%        36.000000\n",
       "75%        52.000000\n",
       "max       105.000000\n",
       "Name: Age, dtype: float64"
      ]
     },
     "execution_count": 79,
     "metadata": {},
     "output_type": "execute_result"
    }
   ],
   "source": [
    "p_census[\"Age\"].describe()"
   ]
  },
  {
   "cell_type": "code",
   "execution_count": 80,
   "id": "bae49dc7",
   "metadata": {},
   "outputs": [
    {
     "data": {
      "text/plain": [
       "Text(0.5, 1.0, 'Distribution of Age in the data Set')"
      ]
     },
     "execution_count": 80,
     "metadata": {},
     "output_type": "execute_result"
    },
    {
     "data": {
      "image/png": "[encoded data removed]",
      "text/plain": [
       "<Figure size 640x480 with 1 Axes>"
      ]
     },
     "metadata": {},
     "output_type": "display_data"
    }
   ],
   "source": [
    "\n",
    "sns.histplot(p_census['Age'], kde=True)\n",
    "plt.ylabel(\"Frequency of Age\")\n",
    "plt.title(\"Distribution of Age in the data Set\")"
   ]
  },
  {
   "cell_type": "markdown",
   "id": "9a9772e5",
   "metadata": {},
   "source": [
    "# MARITAL STATUS"
   ]
  },
  {
   "cell_type": "code",
   "execution_count": 81,
   "id": "cf568fab",
   "metadata": {},
   "outputs": [
    {
     "data": {
      "image/png": "[encoded data removed]",
      "text/plain": [
       "<Figure size 640x480 with 1 Axes>"
      ]
     },
     "metadata": {},
     "output_type": "display_data"
    }
   ],
   "source": [
    "sns.countplot(data = p_census, x = \"Marital Status\");"
   ]
  },
  {
   "cell_type": "markdown",
   "id": "52e99705",
   "metadata": {},
   "source": [
    "# AGE"
   ]
  },
  {
   "cell_type": "code",
   "execution_count": 82,
   "id": "f704ba45",
   "metadata": {},
   "outputs": [
    {
     "data": {
      "image/png": "[encoded data removed]",
      "text/plain": [
       "<Figure size 640x480 with 1 Axes>"
      ]
     },
     "metadata": {},
     "output_type": "display_data"
    }
   ],
   "source": [
    "sns.countplot(data = p_census , x = \"Gender\");"
   ]
  },
  {
   "cell_type": "markdown",
   "id": "de9e9e37",
   "metadata": {},
   "source": [
    "# RELIGION"
   ]
  },
  {
   "cell_type": "code",
   "execution_count": 83,
   "id": "15e1a207",
   "metadata": {},
   "outputs": [
    {
     "data": {
      "image/png": "[encoded data removed]",
      "text/plain": [
       "<Figure size 640x480 with 1 Axes>"
      ]
     },
     "metadata": {},
     "output_type": "display_data"
    }
   ],
   "source": [
    "sns.countplot(data = p_census, x = \"Religion\")\n",
    "plt.xticks(rotation = 80);"
   ]
  },
  {
   "cell_type": "markdown",
   "id": "3c0fa28b",
   "metadata": {},
   "source": [
    "# RELATIONSHIP among AGE,RELIGION AND GENDER"
   ]
  },
  {
   "cell_type": "code",
   "execution_count": 84,
   "id": "f8cbae47",
   "metadata": {},
   "outputs": [
    {
     "data": {
      "image/png": "[encoded data removed]",
      "text/plain": [
       "<Figure size 600.25x500 with 1 Axes>"
      ]
     },
     "metadata": {},
     "output_type": "display_data"
    }
   ],
   "source": [
    "sns.catplot(data = p_census , x = \"Religion\" , y = \"Age\" , hue = \"Gender\",kind =\"bar\")\n",
    "plt.xticks(rotation = 90);"
   ]
  },
  {
   "cell_type": "markdown",
   "id": "468c40a2",
   "metadata": {},
   "source": [
    "# RELATIONSHIP AMONG MARITAL STATUS,AGE AND GENDER"
   ]
  },
  {
   "cell_type": "code",
   "execution_count": 85,
   "id": "57881f98",
   "metadata": {},
   "outputs": [
    {
     "data": {
      "image/png": "[encoded data removed]",
      "text/plain": [
       "<Figure size 600.25x500 with 1 Axes>"
      ]
     },
     "metadata": {},
     "output_type": "display_data"
    }
   ],
   "source": [
    "sns.catplot(data = p_census, x = \"Marital Status\", y = \"Age\" ,kind = \"bar\", hue = \"Gender\");"
   ]
  },
  {
   "cell_type": "code",
   "execution_count": 86,
   "id": "ca85569c",
   "metadata": {},
   "outputs": [
    {
     "data": {
      "image/png": "[encoded data removed]",
      "text/plain": [
       "<Figure size 640x480 with 1 Axes>"
      ]
     },
     "metadata": {},
     "output_type": "display_data"
    }
   ],
   "source": [
    "sns.boxplot(x = 'Age',   y = 'Marital Status',data = p_census)\n",
    "plt.title('Marital Status by Age')\n",
    "plt.show()"
   ]
  },
  {
   "cell_type": "code",
   "execution_count": 87,
   "id": "03625d56",
   "metadata": {},
   "outputs": [
    {
     "data": {
      "image/png": "[encoded data removed]",
      "text/plain": [
       "<Figure size 640x480 with 1 Axes>"
      ]
     },
     "metadata": {},
     "output_type": "display_data"
    }
   ],
   "source": [
    "sns.boxplot(x = 'Age',   y = 'Religion',data = p_census)\n",
    "plt.title('Religion by Age')\n",
    "plt.show()\n"
   ]
  },
  {
   "cell_type": "code",
   "execution_count": null,
   "id": "27c33fc2",
   "metadata": {},
   "outputs": [],
   "source": []
  },
  {
   "cell_type": "code",
   "execution_count": 88,
   "id": "6e3275a4",
   "metadata": {},
   "outputs": [
    {
     "data": {
      "text/plain": [
       "count       7773\n",
       "unique         5\n",
       "top       Single\n",
       "freq        2662\n",
       "Name: Marital Status, dtype: object"
      ]
     },
     "execution_count": 88,
     "metadata": {},
     "output_type": "execute_result"
    }
   ],
   "source": [
    "p_census[\"Marital Status\"].describe()"
   ]
  },
  {
   "cell_type": "code",
   "execution_count": 89,
   "id": "48a1cb54",
   "metadata": {},
   "outputs": [
    {
     "data": {
      "text/plain": [
       "count     7773\n",
       "unique       7\n",
       "top       None\n",
       "freq      4462\n",
       "Name: Religion, dtype: object"
      ]
     },
     "execution_count": 89,
     "metadata": {},
     "output_type": "execute_result"
    }
   ],
   "source": [
    "p_census[\"Religion\"].describe()"
   ]
  },
  {
   "cell_type": "markdown",
   "id": "1cf363df",
   "metadata": {},
   "source": [
    "### Age Pyramid"
   ]
  },
  {
   "cell_type": "code",
   "execution_count": 90,
   "id": "d6ca859e",
   "metadata": {},
   "outputs": [
    {
     "name": "stdout",
     "output_type": "stream",
     "text": [
      "[(0, 4), (5, 9), (10, 14), (15, 19), (20, 24), (25, 29), (30, 34), (35, 39), (40, 44), (45, 49), (50, 54), (55, 59), (60, 64), (65, 69), (70, 74), (75, 79), (80, 84), (85, 89), (90, 94), (95, 99), (100, 110)]\n"
     ]
    }
   ],
   "source": [
    "#calculating age pyramid we have the below\n",
    "Age_group = [ ((i-1)*5 ,  (i-1)*5 + 4)  for i in range(1,21)] + [(100, 110)]\n",
    "print (Age_group)\n",
    "\n",
    "\n"
   ]
  },
  {
   "cell_type": "code",
   "execution_count": 91,
   "id": "0cf1175f",
   "metadata": {},
   "outputs": [
    {
     "name": "stdout",
     "output_type": "stream",
     "text": [
      "[-235, -262, -302, -286, -278, -264, -262, -285, -295, -252, -227, -215, -181, -108, -109, -86, -56, -38, -7, -5, -4]\n",
      "[198, 265, 233, 280, 279, 287, 291, 381, 333, 323, 251, 217, 175, 146, 144, 96, 67, 35, 5, 5, 5]\n"
     ]
    }
   ],
   "source": [
    "Count_males = []\n",
    "Count_females = []\n",
    "for pp in Age_group:\n",
    "    pA = p_census[p_census['Age'] <= pp[1]] \n",
    "    pB = pA[pA['Age'] >= pp[0] ]\n",
    "    Count_males.append(len(pB[pB['Gender'] == 'Male']))\n",
    "    Count_females.append(len(pB[pB['Gender'] == 'Female']))\n",
    "\n",
    "\n",
    "Count_males = [(-1)*x for x in Count_males]\n",
    "print (Count_males)\n",
    "print (Count_females)"
   ]
  },
  {
   "cell_type": "code",
   "execution_count": 92,
   "id": "36f872e4",
   "metadata": {},
   "outputs": [
    {
     "data": {
      "text/plain": [
       "Text(0.5, 1.0, 'Census Data Population Pyramid')"
      ]
     },
     "execution_count": 92,
     "metadata": {},
     "output_type": "execute_result"
    },
    {
     "data": {
      "image/png": "[encoded data removed]",
      "text/plain": [
       "<Figure size 640x480 with 1 Axes>"
      ]
     },
     "metadata": {},
     "output_type": "display_data"
    }
   ],
   "source": [
    "class_age= ['0-4', '5-9', '10-14', '15-19', '20-24', '25-29', '30-34', '35-39', '40-44', '45-49', '50-54', '55-59', '60-64', '65-69', '70-74', '75-79', '80-84', '85-89', '90-94', '95-99', '100+']\n",
    "\n",
    "class_age.reverse()\n",
    "Count_males.reverse()\n",
    "Count_females.reverse()\n",
    "\n",
    "p_age = pd.DataFrame({'Age': class_age,\n",
    " 'Male': Count_males,\n",
    " 'Female': Count_females})\n",
    "\n",
    "\n",
    "\n",
    "age_pyramid = sns.barplot(x='Male', y='Age', data=p_age, order=class_age,\n",
    "color=('mediumblue'), label='Male')\n",
    "age_pyramid = sns.barplot(x='Female', y='Age', data=p_age, order=class_age,\n",
    "color=('darkorange'), label='Female')\n",
    "age_pyramid.legend()\n",
    "age_pyramid.set(xlabel='Population Count', ylabel='Age Group')\n",
    "plt.title('Census Data Population Pyramid')\n"
   ]
  },
  {
   "cell_type": "code",
   "execution_count": 93,
   "id": "80d8afa2",
   "metadata": {},
   "outputs": [
    {
     "name": "stdout",
     "output_type": "stream",
     "text": [
      "4016\n",
      "3757\n"
     ]
    }
   ],
   "source": [
    "#this gave us the total number of male and female\n",
    "print(len(p_census[p_census['Gender'] == 'Female']))\n",
    "print(len(p_census[p_census['Gender'] == 'Male']))"
   ]
  },
  {
   "cell_type": "markdown",
   "id": "602b356b",
   "metadata": {},
   "source": [
    "##### COMMUTERS"
   ]
  },
  {
   "cell_type": "code",
   "execution_count": 94,
   "id": "fd50728b",
   "metadata": {},
   "outputs": [
    {
     "name": "stdout",
     "output_type": "stream",
     "text": [
      "Number of University Students: 488\n",
      "Number of PhD Students: 14\n",
      "Number of Students: 1477\n"
     ]
    }
   ],
   "source": [
    "University_student = p_census[p_census['Occupation'] == 'University Student'] \n",
    "print ('Number of University Students:',len(University_student))\n",
    "\n",
    "phD_Student = p_census[p_census['Occupation'] == 'PhD Student']\n",
    "print ('Number of PhD Students:',len(phD_Student))\n",
    "\n",
    "\n",
    "student = p_census[p_census['Occupation'] == 'Student']\n",
    "print ('Number of Students:',len(student))"
   ]
  },
  {
   "cell_type": "code",
   "execution_count": 95,
   "id": "b599e390",
   "metadata": {},
   "outputs": [
    {
     "data": {
      "text/html": [
       "<div>\n",
       "<style scoped>\n",
       "    .dataframe tbody tr th:only-of-type {\n",
       "        vertical-align: middle;\n",
       "    }\n",
       "\n",
       "    .dataframe tbody tr th {\n",
       "        vertical-align: top;\n",
       "    }\n",
       "\n",
       "    .dataframe thead th {\n",
       "        text-align: right;\n",
       "    }\n",
       "</style>\n",
       "<table border=\"1\" class=\"dataframe\">\n",
       "  <thead>\n",
       "    <tr style=\"text-align: right;\">\n",
       "      <th></th>\n",
       "      <th>House Number</th>\n",
       "      <th>Street</th>\n",
       "      <th>First Name</th>\n",
       "      <th>Surname</th>\n",
       "      <th>Age</th>\n",
       "      <th>Relationship to Head of House</th>\n",
       "      <th>Marital Status</th>\n",
       "      <th>Gender</th>\n",
       "      <th>Occupation</th>\n",
       "      <th>Infirmity</th>\n",
       "      <th>Religion</th>\n",
       "      <th>OccupationFW</th>\n",
       "    </tr>\n",
       "  </thead>\n",
       "  <tbody>\n",
       "    <tr>\n",
       "      <th>0</th>\n",
       "      <td>1</td>\n",
       "      <td>Forgotten Gardens</td>\n",
       "      <td>Laura</td>\n",
       "      <td>White</td>\n",
       "      <td>56</td>\n",
       "      <td>Head</td>\n",
       "      <td>Married</td>\n",
       "      <td>Female</td>\n",
       "      <td>Unemployed</td>\n",
       "      <td>None</td>\n",
       "      <td>Christian</td>\n",
       "      <td>Unemployed</td>\n",
       "    </tr>\n",
       "    <tr>\n",
       "      <th>1</th>\n",
       "      <td>1</td>\n",
       "      <td>Forgotten Gardens</td>\n",
       "      <td>Elliot</td>\n",
       "      <td>White</td>\n",
       "      <td>57</td>\n",
       "      <td>Husband</td>\n",
       "      <td>Married</td>\n",
       "      <td>Male</td>\n",
       "      <td>Education officer, community</td>\n",
       "      <td>None</td>\n",
       "      <td>Christian</td>\n",
       "      <td>Education</td>\n",
       "    </tr>\n",
       "    <tr>\n",
       "      <th>2</th>\n",
       "      <td>1</td>\n",
       "      <td>Forgotten Gardens</td>\n",
       "      <td>Nicole</td>\n",
       "      <td>White</td>\n",
       "      <td>15</td>\n",
       "      <td>Daughter</td>\n",
       "      <td>under_age</td>\n",
       "      <td>Female</td>\n",
       "      <td>Student</td>\n",
       "      <td>None</td>\n",
       "      <td>None</td>\n",
       "      <td>Student</td>\n",
       "    </tr>\n",
       "    <tr>\n",
       "      <th>3</th>\n",
       "      <td>2</td>\n",
       "      <td>Forgotten Gardens</td>\n",
       "      <td>Michelle</td>\n",
       "      <td>John</td>\n",
       "      <td>44</td>\n",
       "      <td>Head</td>\n",
       "      <td>Divorced</td>\n",
       "      <td>Female</td>\n",
       "      <td>Administrator, arts</td>\n",
       "      <td>None</td>\n",
       "      <td>Christian</td>\n",
       "      <td>Administrator,</td>\n",
       "    </tr>\n",
       "    <tr>\n",
       "      <th>4</th>\n",
       "      <td>2</td>\n",
       "      <td>Forgotten Gardens</td>\n",
       "      <td>Jeffrey</td>\n",
       "      <td>John</td>\n",
       "      <td>9</td>\n",
       "      <td>Son</td>\n",
       "      <td>under_age</td>\n",
       "      <td>Male</td>\n",
       "      <td>Student</td>\n",
       "      <td>None</td>\n",
       "      <td>None</td>\n",
       "      <td>Student</td>\n",
       "    </tr>\n",
       "    <tr>\n",
       "      <th>...</th>\n",
       "      <td>...</td>\n",
       "      <td>...</td>\n",
       "      <td>...</td>\n",
       "      <td>...</td>\n",
       "      <td>...</td>\n",
       "      <td>...</td>\n",
       "      <td>...</td>\n",
       "      <td>...</td>\n",
       "      <td>...</td>\n",
       "      <td>...</td>\n",
       "      <td>...</td>\n",
       "      <td>...</td>\n",
       "    </tr>\n",
       "    <tr>\n",
       "      <th>7768</th>\n",
       "      <td>1</td>\n",
       "      <td>Fletcher Farmhouse</td>\n",
       "      <td>Beverley</td>\n",
       "      <td>Hudson</td>\n",
       "      <td>30</td>\n",
       "      <td>Head</td>\n",
       "      <td>Divorced</td>\n",
       "      <td>Female</td>\n",
       "      <td>Research officer, trade union</td>\n",
       "      <td>None</td>\n",
       "      <td>Christian</td>\n",
       "      <td>Research</td>\n",
       "    </tr>\n",
       "    <tr>\n",
       "      <th>7769</th>\n",
       "      <td>1</td>\n",
       "      <td>Fletcher Farmhouse</td>\n",
       "      <td>Rachael</td>\n",
       "      <td>Hudson</td>\n",
       "      <td>0</td>\n",
       "      <td>Daughter</td>\n",
       "      <td>under_age</td>\n",
       "      <td>Female</td>\n",
       "      <td>Child</td>\n",
       "      <td>None</td>\n",
       "      <td>None</td>\n",
       "      <td>Child</td>\n",
       "    </tr>\n",
       "    <tr>\n",
       "      <th>7770</th>\n",
       "      <td>1</td>\n",
       "      <td>Fletcher Farmhouse</td>\n",
       "      <td>Stephen</td>\n",
       "      <td>Shepherd</td>\n",
       "      <td>54</td>\n",
       "      <td>Sibling</td>\n",
       "      <td>Divorced</td>\n",
       "      <td>Male</td>\n",
       "      <td>Accountant, chartered public finance</td>\n",
       "      <td>None</td>\n",
       "      <td>None</td>\n",
       "      <td>Accountant,</td>\n",
       "    </tr>\n",
       "    <tr>\n",
       "      <th>7771</th>\n",
       "      <td>1</td>\n",
       "      <td>Fletcher Farmhouse</td>\n",
       "      <td>William</td>\n",
       "      <td>French</td>\n",
       "      <td>48</td>\n",
       "      <td>Lodger</td>\n",
       "      <td>Single</td>\n",
       "      <td>Male</td>\n",
       "      <td>Unemployed</td>\n",
       "      <td>None</td>\n",
       "      <td>Christian</td>\n",
       "      <td>Unemployed</td>\n",
       "    </tr>\n",
       "    <tr>\n",
       "      <th>7772</th>\n",
       "      <td>1</td>\n",
       "      <td>Fletcher Farmhouse</td>\n",
       "      <td>Deborah</td>\n",
       "      <td>Yates</td>\n",
       "      <td>34</td>\n",
       "      <td>Lodger</td>\n",
       "      <td>Single</td>\n",
       "      <td>Female</td>\n",
       "      <td>Geographical information systems officer</td>\n",
       "      <td>None</td>\n",
       "      <td>None</td>\n",
       "      <td>Geographical</td>\n",
       "    </tr>\n",
       "  </tbody>\n",
       "</table>\n",
       "<p>7773 rows × 12 columns</p>\n",
       "</div>"
      ],
      "text/plain": [
       "      House Number              Street First Name   Surname  Age  \\\n",
       "0                1   Forgotten Gardens      Laura     White   56   \n",
       "1                1   Forgotten Gardens     Elliot     White   57   \n",
       "2                1   Forgotten Gardens     Nicole     White   15   \n",
       "3                2   Forgotten Gardens   Michelle      John   44   \n",
       "4                2   Forgotten Gardens    Jeffrey      John    9   \n",
       "...            ...                 ...        ...       ...  ...   \n",
       "7768             1  Fletcher Farmhouse   Beverley    Hudson   30   \n",
       "7769             1  Fletcher Farmhouse    Rachael    Hudson    0   \n",
       "7770             1  Fletcher Farmhouse    Stephen  Shepherd   54   \n",
       "7771             1  Fletcher Farmhouse    William    French   48   \n",
       "7772             1  Fletcher Farmhouse    Deborah     Yates   34   \n",
       "\n",
       "     Relationship to Head of House Marital Status  Gender  \\\n",
       "0                             Head        Married  Female   \n",
       "1                          Husband        Married    Male   \n",
       "2                         Daughter      under_age  Female   \n",
       "3                             Head       Divorced  Female   \n",
       "4                              Son      under_age    Male   \n",
       "...                            ...            ...     ...   \n",
       "7768                          Head       Divorced  Female   \n",
       "7769                      Daughter      under_age  Female   \n",
       "7770                       Sibling       Divorced    Male   \n",
       "7771                        Lodger         Single    Male   \n",
       "7772                        Lodger         Single  Female   \n",
       "\n",
       "                                    Occupation Infirmity   Religion  \\\n",
       "0                                   Unemployed      None  Christian   \n",
       "1                 Education officer, community      None  Christian   \n",
       "2                                      Student      None       None   \n",
       "3                          Administrator, arts      None  Christian   \n",
       "4                                      Student      None       None   \n",
       "...                                        ...       ...        ...   \n",
       "7768             Research officer, trade union      None  Christian   \n",
       "7769                                     Child      None       None   \n",
       "7770      Accountant, chartered public finance      None       None   \n",
       "7771                                Unemployed      None  Christian   \n",
       "7772  Geographical information systems officer      None       None   \n",
       "\n",
       "        OccupationFW  \n",
       "0         Unemployed  \n",
       "1          Education  \n",
       "2            Student  \n",
       "3     Administrator,  \n",
       "4            Student  \n",
       "...              ...  \n",
       "7768        Research  \n",
       "7769           Child  \n",
       "7770     Accountant,  \n",
       "7771      Unemployed  \n",
       "7772    Geographical  \n",
       "\n",
       "[7773 rows x 12 columns]"
      ]
     },
     "execution_count": 95,
     "metadata": {},
     "output_type": "execute_result"
    }
   ],
   "source": [
    "#working onOccupations\n",
    "split_Occupation = p_census['Occupation'].str.split()\n",
    "p_census['OccupationFW'] = split_Occupation.str[0]\n",
    "p_census"
   ]
  },
  {
   "cell_type": "code",
   "execution_count": 126,
   "id": "ea8656c7",
   "metadata": {},
   "outputs": [],
   "source": [
    "not_retired = p_census[p_census['OccupationFW'] != 'Retired']\n"
   ]
  },
  {
   "cell_type": "code",
   "execution_count": 97,
   "id": "436dfbb7",
   "metadata": {},
   "outputs": [],
   "source": [
    "Unemployed = (not_retired['Occupation'] != 'Student') & (not_retired['Occupation'] != 'PhD Student') & (not_retired['Occupation'] != 'University Student') & (not_retired['Occupation'] != 'Unemployed')\n",
    "p_Unemployed = not_retired[Unemployed]"
   ]
  },
  {
   "cell_type": "code",
   "execution_count": 98,
   "id": "786fb0cc",
   "metadata": {},
   "outputs": [
    {
     "data": {
      "text/plain": [
       "512"
      ]
     },
     "execution_count": 98,
     "metadata": {},
     "output_type": "execute_result"
    }
   ],
   "source": [
    "commuter_Wife=len(p_census[p_census['Relationship to Head of House'] == 'Wife'])\n",
    "commuter_Husband=len(p_census[p_census['Relationship to Head of House'] == 'Husband'])\n",
    "commuter_huband_wife= commuter_Husband-commuter_Wife\n",
    "commuter_huband_wife"
   ]
  },
  {
   "cell_type": "code",
   "execution_count": 99,
   "id": "d468b83f",
   "metadata": {},
   "outputs": [
    {
     "data": {
      "text/plain": [
       "731"
      ]
     },
     "execution_count": 99,
     "metadata": {},
     "output_type": "execute_result"
    }
   ],
   "source": [
    "future_uni_student =(p_census['Occupation']=='Student') & (p_census['Age'] >= 12)\n",
    "len(p_census[future_uni_student])"
   ]
  },
  {
   "cell_type": "code",
   "execution_count": 127,
   "id": "b8bd11ab",
   "metadata": {},
   "outputs": [
    {
     "data": {
      "text/plain": [
       "488"
      ]
     },
     "execution_count": 127,
     "metadata": {},
     "output_type": "execute_result"
    }
   ],
   "source": [
    "#expected student to be in the university  in the next 5 years\n",
    "len(University_student) "
   ]
  },
  {
   "cell_type": "code",
   "execution_count": 101,
   "id": "6971d9c5",
   "metadata": {},
   "outputs": [],
   "source": [
    "Unemployed_Rand = p_Unemployed.sample(100)"
   ]
  },
  {
   "cell_type": "code",
   "execution_count": 102,
   "id": "6e38cac3",
   "metadata": {},
   "outputs": [
    {
     "data": {
      "text/plain": [
       "array(['Lawyer', 'Energy manager', 'Clinical embryologist',\n",
       "       'Cartographer', 'Lobbyist',\n",
       "       'Senior tax professional/tax inspector', 'Child', 'Risk manager',\n",
       "       'Animal technologist', 'Designer, industrial/product',\n",
       "       'Engineer, materials', 'Designer, fashion/clothing',\n",
       "       'Building services engineer', 'Planning and development surveyor',\n",
       "       'Geoscientist', 'Recruitment consultant', 'Public librarian',\n",
       "       'Land/geomatics surveyor', 'Homeopath', 'Technical brewer',\n",
       "       'Data processing manager', 'Occupational therapist', 'Hydrologist',\n",
       "       'Furniture conservator/restorer', 'Optician, dispensing',\n",
       "       'Scientist, research (maths)', 'Physicist, medical',\n",
       "       'Scientist, forensic', 'Civil Service fast streamer', 'Dentist',\n",
       "       'Firefighter', 'Outdoor activities/education manager',\n",
       "       'Minerals surveyor', 'Orthoptist', 'Accounting technician',\n",
       "       'International aid/development worker', 'Engineer, communications',\n",
       "       'Air cabin crew', 'Advertising art director',\n",
       "       'Biochemist, clinical', 'Chief Financial Officer', 'Pathologist',\n",
       "       'Immigration officer', 'Multimedia programmer',\n",
       "       'Psychiatric nurse', 'Forensic psychologist', 'Art therapist',\n",
       "       'Immunologist', 'Osteopath', 'Pharmacist, hospital',\n",
       "       'Agricultural consultant', 'Sports development officer', 'Curator',\n",
       "       'Pension scheme manager', 'Civil engineer, contracting',\n",
       "       'Energy engineer', 'Trade mark attorney',\n",
       "       'Radio broadcast assistant', 'Scientific laboratory technician',\n",
       "       'Chartered certified accountant', 'Surveyor, mining',\n",
       "       'Community arts worker', 'Landscape architect', 'Publishing copy',\n",
       "       'Management consultant', 'Prison officer', 'Futures trader',\n",
       "       'Runner, broadcasting/film/video', 'Journalist, newspaper',\n",
       "       'Trading standards officer', 'Risk analyst',\n",
       "       'Maintenance engineer', 'Food technologist',\n",
       "       'Designer, interior/spatial', 'Jewellery designer',\n",
       "       'Scientist, research (physical sciences)',\n",
       "       'Presenter, broadcasting', 'Network engineer',\n",
       "       'Museum/gallery conservator', 'Doctor, general practice',\n",
       "       'Materials engineer', 'Land', 'Therapist, speech and language',\n",
       "       'Physiotherapist', 'Local government officer',\n",
       "       'Teacher, special educational needs',\n",
       "       'Psychologist, prison and probation services', 'Ship broker'],\n",
       "      dtype=object)"
      ]
     },
     "execution_count": 102,
     "metadata": {},
     "output_type": "execute_result"
    }
   ],
   "source": [
    "Unemployed_Rand['Occupation'].unique()"
   ]
  },
  {
   "cell_type": "markdown",
   "id": "81678cae",
   "metadata": {},
   "source": [
    "###### BIRTH RATE"
   ]
  },
  {
   "cell_type": "markdown",
   "id": "6c838dea",
   "metadata": {},
   "source": [
    "### Birth Rate per 1000 .\n",
    "### The birth rate was calculated by dividing the number of children born in the year by the total population and multiplying the result by 1000"
   ]
  },
  {
   "cell_type": "code",
   "execution_count": 103,
   "id": "ef9f5a04",
   "metadata": {},
   "outputs": [
    {
     "name": "stdout",
     "output_type": "stream",
     "text": [
      "number of children aged zero: 59\n",
      "number of children aged four: 98\n",
      "number of women aged 25-29: 287\n",
      "number of women aged 30-34: 291\n"
     ]
    }
   ],
   "source": [
    "# finding the birthrate\n",
    "children_Age_0 = len(p_census[p_census['Age'] == 0])\n",
    "female_age_25to29 = len (p_census[ (p_census['Age'].between(25,29)) & (p_census['Gender'] == 'Female') ] )\n",
    "\n",
    "children_Age_4 = len(p_census[p_census['Age'] == 4])\n",
    "female_age_30to34 = len (p_census[ (p_census['Age'].between(30,34)) & (p_census['Gender'] == 'Female') ] )\n",
    "\n",
    "print ('number of children aged zero:', children_Age_0)\n",
    "print ('number of children aged four:', children_Age_4)\n",
    "print ('number of women aged 25-29:',female_age_25to29)\n",
    "print ('number of women aged 30-34:', female_age_30to34)"
   ]
  },
  {
   "cell_type": "code",
   "execution_count": 104,
   "id": "3af1f696",
   "metadata": {},
   "outputs": [
    {
     "name": "stdout",
     "output_type": "stream",
     "text": [
      "7.590376945838158\n"
     ]
    }
   ],
   "source": [
    "#formula for  Birth-rate\n",
    "# crude birth rate\n",
    "birth_rate =children_Age_0 /len(p_census) * 1000\n",
    "print (birth_rate)"
   ]
  },
  {
   "cell_type": "code",
   "execution_count": 105,
   "id": "4ecedc30",
   "metadata": {},
   "outputs": [
    {
     "data": {
      "text/plain": [
       "12.60774475749389"
      ]
     },
     "execution_count": 105,
     "metadata": {},
     "output_type": "execute_result"
    }
   ],
   "source": [
    "# last Crude Birth-rate\n",
    "children_Age_4/len(p_census) * 1000"
   ]
  },
  {
   "cell_type": "markdown",
   "id": "4ed22425",
   "metadata": {},
   "source": [
    "#### The crude birthrate reduced by about 5 children per 1000 in a five-year period."
   ]
  },
  {
   "cell_type": "code",
   "execution_count": 107,
   "id": "0924dca7",
   "metadata": {},
   "outputs": [
    {
     "data": {
      "text/plain": [
       "205.57491289198606"
      ]
     },
     "execution_count": 107,
     "metadata": {},
     "output_type": "execute_result"
    }
   ],
   "source": [
    "# age-specific birth rate for 25-29 year old women\n",
    "#Present Birth rate per 1000\n",
    "children_Age_0/female_age_25to29 * 1000"
   ]
  },
  {
   "cell_type": "code",
   "execution_count": 108,
   "id": "aff7eb3a",
   "metadata": {},
   "outputs": [
    {
     "data": {
      "text/plain": [
       "336.7697594501718"
      ]
     },
     "execution_count": 108,
     "metadata": {},
     "output_type": "execute_result"
    }
   ],
   "source": [
    "#age-specific birth rate for 30-34 year old women\n",
    "#Previous Birth per 1000\n",
    "children_Age_4/female_age_30to34  * 1000"
   ]
  },
  {
   "cell_type": "markdown",
   "id": "b417fdf8",
   "metadata": {},
   "source": [
    "##### The Age-specific birthrate dropped by about 131 children per 1000 in a five-year period."
   ]
  },
  {
   "cell_type": "code",
   "execution_count": 110,
   "id": "f856e786",
   "metadata": {},
   "outputs": [
    {
     "name": "stdout",
     "output_type": "stream",
     "text": [
      "The num of people in the age group 56-60: 432\n",
      "The num of people in the age group 61-65: 315\n",
      "death rate per annum: 23.4\n"
     ]
    }
   ],
   "source": [
    "#death rate\n",
    "age_56to60_Count = len(p_census[p_census['Age'].between(56,60)])\n",
    "age_61to65_Count = len(p_census[p_census['Age'].between(61,65)])\n",
    "print ('The num of people in the age group 56-60:',age_56to60_Count)\n",
    "print ('The num of people in the age group 61-65:',age_61to65_Count)\n",
    "\n",
    "#death rate per annum\n",
    "death_Rate_Per_year = (age_56to60_Count - age_61to65_Count)/5\n",
    "print ('death rate per annum:',death_Rate_Per_year)"
   ]
  },
  {
   "cell_type": "code",
   "execution_count": 111,
   "id": "25a9f388",
   "metadata": {},
   "outputs": [
    {
     "name": "stdout",
     "output_type": "stream",
     "text": [
      "[255, 169, 61, 10]\n",
      "[240, 114, 7, 9]\n"
     ]
    },
    {
     "data": {
      "text/html": [
       "<div>\n",
       "<style scoped>\n",
       "    .dataframe tbody tr th:only-of-type {\n",
       "        vertical-align: middle;\n",
       "    }\n",
       "\n",
       "    .dataframe tbody tr th {\n",
       "        vertical-align: top;\n",
       "    }\n",
       "\n",
       "    .dataframe thead th {\n",
       "        text-align: right;\n",
       "    }\n",
       "</style>\n",
       "<table border=\"1\" class=\"dataframe\">\n",
       "  <thead>\n",
       "    <tr style=\"text-align: right;\">\n",
       "      <th></th>\n",
       "      <th>Age-Range</th>\n",
       "      <th>Num_range_1</th>\n",
       "      <th>Num_range_2</th>\n",
       "    </tr>\n",
       "  </thead>\n",
       "  <tbody>\n",
       "    <tr>\n",
       "      <th>0</th>\n",
       "      <td>66-70 &amp; 71-75</td>\n",
       "      <td>255</td>\n",
       "      <td>240</td>\n",
       "    </tr>\n",
       "    <tr>\n",
       "      <th>1</th>\n",
       "      <td>76-80 &amp; 81-85</td>\n",
       "      <td>169</td>\n",
       "      <td>114</td>\n",
       "    </tr>\n",
       "    <tr>\n",
       "      <th>2</th>\n",
       "      <td>86-90 &amp; 91-95</td>\n",
       "      <td>61</td>\n",
       "      <td>7</td>\n",
       "    </tr>\n",
       "    <tr>\n",
       "      <th>3</th>\n",
       "      <td>96-100 &amp; 101-105</td>\n",
       "      <td>10</td>\n",
       "      <td>9</td>\n",
       "    </tr>\n",
       "  </tbody>\n",
       "</table>\n",
       "</div>"
      ],
      "text/plain": [
       "          Age-Range  Num_range_1  Num_range_2\n",
       "0     66-70 & 71-75          255          240\n",
       "1     76-80 & 81-85          169          114\n",
       "2     86-90 & 91-95           61            7\n",
       "3  96-100 & 101-105           10            9"
      ]
     },
     "execution_count": 111,
     "metadata": {},
     "output_type": "execute_result"
    }
   ],
   "source": [
    "age_group = ['66-70 & 71-75', '76-80 & 81-85', '86-90 & 91-95', '96-100 & 101-105']\n",
    "r1 = [(66,70), (76,80), (86,90) ,(96,100)]\n",
    "r2 =  [(71,75), (81,85), (91,95) ,(101,105)]\n",
    "age_Count_r1 = [len(p_census[p_census['Age'].between(x[0],x[1])]) for x in r1]\n",
    "age_Count_r2 = [len(p_census[p_census['Age'].between(x[0],x[1])]) for x in r2]\n",
    "print (age_Count_r1)\n",
    "print (age_Count_r2)\n",
    "\n",
    "death_rate_per_annum = pd.DataFrame({'Age-Range':age_group,\n",
    " 'Num_range_1': age_Count_r1,\n",
    " 'Num_range_2': age_Count_r2})\n",
    "death_rate_per_annum"
   ]
  },
  {
   "cell_type": "code",
   "execution_count": 112,
   "id": "29a2f2a2",
   "metadata": {},
   "outputs": [
    {
     "data": {
      "text/html": [
       "<div>\n",
       "<style scoped>\n",
       "    .dataframe tbody tr th:only-of-type {\n",
       "        vertical-align: middle;\n",
       "    }\n",
       "\n",
       "    .dataframe tbody tr th {\n",
       "        vertical-align: top;\n",
       "    }\n",
       "\n",
       "    .dataframe thead th {\n",
       "        text-align: right;\n",
       "    }\n",
       "</style>\n",
       "<table border=\"1\" class=\"dataframe\">\n",
       "  <thead>\n",
       "    <tr style=\"text-align: right;\">\n",
       "      <th></th>\n",
       "      <th>Age-Range</th>\n",
       "      <th>Num_range_1</th>\n",
       "      <th>Num_range_2</th>\n",
       "      <th>Number of Death</th>\n",
       "      <th>Death rate per annum</th>\n",
       "    </tr>\n",
       "  </thead>\n",
       "  <tbody>\n",
       "    <tr>\n",
       "      <th>0</th>\n",
       "      <td>66-70 &amp; 71-75</td>\n",
       "      <td>255</td>\n",
       "      <td>240</td>\n",
       "      <td>15</td>\n",
       "      <td>3.0</td>\n",
       "    </tr>\n",
       "    <tr>\n",
       "      <th>1</th>\n",
       "      <td>76-80 &amp; 81-85</td>\n",
       "      <td>169</td>\n",
       "      <td>114</td>\n",
       "      <td>55</td>\n",
       "      <td>11.0</td>\n",
       "    </tr>\n",
       "    <tr>\n",
       "      <th>2</th>\n",
       "      <td>86-90 &amp; 91-95</td>\n",
       "      <td>61</td>\n",
       "      <td>7</td>\n",
       "      <td>54</td>\n",
       "      <td>10.8</td>\n",
       "    </tr>\n",
       "    <tr>\n",
       "      <th>3</th>\n",
       "      <td>96-100 &amp; 101-105</td>\n",
       "      <td>10</td>\n",
       "      <td>9</td>\n",
       "      <td>1</td>\n",
       "      <td>0.2</td>\n",
       "    </tr>\n",
       "  </tbody>\n",
       "</table>\n",
       "</div>"
      ],
      "text/plain": [
       "          Age-Range  Num_range_1  Num_range_2  Number of Death  \\\n",
       "0     66-70 & 71-75          255          240               15   \n",
       "1     76-80 & 81-85          169          114               55   \n",
       "2     86-90 & 91-95           61            7               54   \n",
       "3  96-100 & 101-105           10            9                1   \n",
       "\n",
       "   Death rate per annum  \n",
       "0                   3.0  \n",
       "1                  11.0  \n",
       "2                  10.8  \n",
       "3                   0.2  "
      ]
     },
     "execution_count": 112,
     "metadata": {},
     "output_type": "execute_result"
    }
   ],
   "source": [
    "death_rate_per_annum['Number of Death'] = death_rate_per_annum['Num_range_1'] - death_rate_per_annum['Num_range_2']\n",
    "death_rate_per_annum['Death rate per annum'] = death_rate_per_annum['Number of Death']/5\n",
    "death_rate_per_annum"
   ]
  },
  {
   "cell_type": "code",
   "execution_count": 113,
   "id": "02887644",
   "metadata": {},
   "outputs": [
    {
     "data": {
      "text/plain": [
       "16.081307088640163"
      ]
     },
     "execution_count": 113,
     "metadata": {},
     "output_type": "execute_result"
    }
   ],
   "source": [
    "death_rate = death_rate_per_annum['Number of Death'].sum()/len(p_census) * 1000\n",
    "death_rate"
   ]
  },
  {
   "cell_type": "code",
   "execution_count": 125,
   "id": "98236cb9",
   "metadata": {},
   "outputs": [
    {
     "name": "stdout",
     "output_type": "stream",
     "text": [
      "27\n",
      "274\n",
      "38.72378746944552\n"
     ]
    }
   ],
   "source": [
    "#Immigrants\n",
    "visitor_in_town = p_census[(p_census['Relationship to Head of House'] == 'Visitor')]\n",
    "print (len(visitor_in_town))\n",
    "\n",
    "lodgers_in_town = p_census[(p_census['Relationship to Head of House'] == 'Lodger')]\n",
    "print (len(lodgers_in_town))\n",
    "\n",
    "immigration_Rate =  (len(visitor_in_town) + len(lodgers_in_town))/len(p_census) * 1000\n",
    "print(immigration_Rate )"
   ]
  },
  {
   "cell_type": "markdown",
   "id": "fe027c6c",
   "metadata": {},
   "source": [
    "### DIVORCES"
   ]
  },
  {
   "cell_type": "code",
   "execution_count": 115,
   "id": "a625509b",
   "metadata": {},
   "outputs": [
    {
     "name": "stdout",
     "output_type": "stream",
     "text": [
      "443\n",
      "259\n",
      "23.67168403447832\n"
     ]
    }
   ],
   "source": [
    "\n",
    "female_divorces = len(p_census[(p_census['Marital Status'] == 'Divorced') & (p_census['Gender'] == 'Female')])\n",
    "print (female_divorces)\n",
    "\n",
    "male_divorces = len(p_census[(p_census['Marital Status'] == 'Divorced') & (p_census['Gender'] == 'Male')])\n",
    "print (male_divorces)\n",
    "\n",
    "emmigration_rate = ( female_divorces - male_divorces)/len(p_census) * 1000\n",
    "print(emmigration_rate)"
   ]
  },
  {
   "cell_type": "markdown",
   "id": "96ce8d82",
   "metadata": {},
   "source": [
    "#### POPULATION GROWTH"
   ]
  },
  {
   "cell_type": "code",
   "execution_count": 116,
   "id": "afb423cb",
   "metadata": {},
   "outputs": [
    {
     "data": {
      "text/plain": [
       "6.5611732921651935"
      ]
     },
     "execution_count": 116,
     "metadata": {},
     "output_type": "execute_result"
    }
   ],
   "source": [
    "\n",
    "((birth_rate + immigration_Rate) - (death_rate + emmigration_rate))"
   ]
  },
  {
   "cell_type": "code",
   "execution_count": 117,
   "id": "686bff08",
   "metadata": {},
   "outputs": [],
   "source": [
    "unempployed_pop = p_census[ p_census['Occupation'] == 'Unemployed']\n",
    "#people above 65 are assumed to be retired\n",
    "unempployed_pop = unempployed_pop[unempployed_pop['Age'] < 65]\n"
   ]
  },
  {
   "cell_type": "code",
   "execution_count": 118,
   "id": "5439e969",
   "metadata": {},
   "outputs": [
    {
     "data": {
      "text/html": [
       "<div>\n",
       "<style scoped>\n",
       "    .dataframe tbody tr th:only-of-type {\n",
       "        vertical-align: middle;\n",
       "    }\n",
       "\n",
       "    .dataframe tbody tr th {\n",
       "        vertical-align: top;\n",
       "    }\n",
       "\n",
       "    .dataframe thead th {\n",
       "        text-align: right;\n",
       "    }\n",
       "</style>\n",
       "<table border=\"1\" class=\"dataframe\">\n",
       "  <thead>\n",
       "    <tr style=\"text-align: right;\">\n",
       "      <th></th>\n",
       "      <th>House Number</th>\n",
       "      <th>Street</th>\n",
       "      <th>First Name</th>\n",
       "      <th>Surname</th>\n",
       "      <th>Age</th>\n",
       "      <th>Relationship to Head of House</th>\n",
       "      <th>Marital Status</th>\n",
       "      <th>Gender</th>\n",
       "      <th>Occupation</th>\n",
       "      <th>Infirmity</th>\n",
       "      <th>Religion</th>\n",
       "      <th>OccupationFW</th>\n",
       "    </tr>\n",
       "  </thead>\n",
       "  <tbody>\n",
       "    <tr>\n",
       "      <th>0</th>\n",
       "      <td>1</td>\n",
       "      <td>Forgotten Gardens</td>\n",
       "      <td>Laura</td>\n",
       "      <td>White</td>\n",
       "      <td>56</td>\n",
       "      <td>Head</td>\n",
       "      <td>Married</td>\n",
       "      <td>Female</td>\n",
       "      <td>Unemployed</td>\n",
       "      <td>None</td>\n",
       "      <td>Christian</td>\n",
       "      <td>Unemployed</td>\n",
       "    </tr>\n",
       "    <tr>\n",
       "      <th>11</th>\n",
       "      <td>5</td>\n",
       "      <td>Forgotten Gardens</td>\n",
       "      <td>Rhys</td>\n",
       "      <td>Conway</td>\n",
       "      <td>41</td>\n",
       "      <td>Husband</td>\n",
       "      <td>Married</td>\n",
       "      <td>Male</td>\n",
       "      <td>Unemployed</td>\n",
       "      <td>None</td>\n",
       "      <td>None</td>\n",
       "      <td>Unemployed</td>\n",
       "    </tr>\n",
       "    <tr>\n",
       "      <th>21</th>\n",
       "      <td>8</td>\n",
       "      <td>Forgotten Gardens</td>\n",
       "      <td>Catherine</td>\n",
       "      <td>Cox</td>\n",
       "      <td>38</td>\n",
       "      <td>Head</td>\n",
       "      <td>Divorced</td>\n",
       "      <td>Female</td>\n",
       "      <td>Unemployed</td>\n",
       "      <td>None</td>\n",
       "      <td>None</td>\n",
       "      <td>Unemployed</td>\n",
       "    </tr>\n",
       "    <tr>\n",
       "      <th>24</th>\n",
       "      <td>9</td>\n",
       "      <td>Forgotten Gardens</td>\n",
       "      <td>Hollie</td>\n",
       "      <td>Robinson</td>\n",
       "      <td>30</td>\n",
       "      <td>Head</td>\n",
       "      <td>Divorced</td>\n",
       "      <td>Female</td>\n",
       "      <td>Unemployed</td>\n",
       "      <td>None</td>\n",
       "      <td>Catholic</td>\n",
       "      <td>Unemployed</td>\n",
       "    </tr>\n",
       "    <tr>\n",
       "      <th>61</th>\n",
       "      <td>13</td>\n",
       "      <td>Quayside Drive</td>\n",
       "      <td>Mohamed</td>\n",
       "      <td>Stevens</td>\n",
       "      <td>57</td>\n",
       "      <td>Head</td>\n",
       "      <td>Single</td>\n",
       "      <td>Male</td>\n",
       "      <td>Unemployed</td>\n",
       "      <td>None</td>\n",
       "      <td>Christian</td>\n",
       "      <td>Unemployed</td>\n",
       "    </tr>\n",
       "    <tr>\n",
       "      <th>...</th>\n",
       "      <td>...</td>\n",
       "      <td>...</td>\n",
       "      <td>...</td>\n",
       "      <td>...</td>\n",
       "      <td>...</td>\n",
       "      <td>...</td>\n",
       "      <td>...</td>\n",
       "      <td>...</td>\n",
       "      <td>...</td>\n",
       "      <td>...</td>\n",
       "      <td>...</td>\n",
       "      <td>...</td>\n",
       "    </tr>\n",
       "    <tr>\n",
       "      <th>7636</th>\n",
       "      <td>11</td>\n",
       "      <td>North Glens</td>\n",
       "      <td>Frank</td>\n",
       "      <td>Rowe</td>\n",
       "      <td>29</td>\n",
       "      <td>Partner</td>\n",
       "      <td>Single</td>\n",
       "      <td>Male</td>\n",
       "      <td>Unemployed</td>\n",
       "      <td>None</td>\n",
       "      <td>Christian</td>\n",
       "      <td>Unemployed</td>\n",
       "    </tr>\n",
       "    <tr>\n",
       "      <th>7638</th>\n",
       "      <td>12</td>\n",
       "      <td>North Glens</td>\n",
       "      <td>Elliott</td>\n",
       "      <td>Bibi</td>\n",
       "      <td>48</td>\n",
       "      <td>Head</td>\n",
       "      <td>Single</td>\n",
       "      <td>Male</td>\n",
       "      <td>Unemployed</td>\n",
       "      <td>None</td>\n",
       "      <td>Catholic</td>\n",
       "      <td>Unemployed</td>\n",
       "    </tr>\n",
       "    <tr>\n",
       "      <th>7645</th>\n",
       "      <td>14</td>\n",
       "      <td>North Glens</td>\n",
       "      <td>Eleanor</td>\n",
       "      <td>Clark</td>\n",
       "      <td>31</td>\n",
       "      <td>Daughter</td>\n",
       "      <td>Single</td>\n",
       "      <td>Female</td>\n",
       "      <td>Unemployed</td>\n",
       "      <td>None</td>\n",
       "      <td>Christian</td>\n",
       "      <td>Unemployed</td>\n",
       "    </tr>\n",
       "    <tr>\n",
       "      <th>7686</th>\n",
       "      <td>25</td>\n",
       "      <td>North Glens</td>\n",
       "      <td>Elaine</td>\n",
       "      <td>Mitchell</td>\n",
       "      <td>23</td>\n",
       "      <td>Daughter</td>\n",
       "      <td>Single</td>\n",
       "      <td>Female</td>\n",
       "      <td>Unemployed</td>\n",
       "      <td>None</td>\n",
       "      <td>Catholic</td>\n",
       "      <td>Unemployed</td>\n",
       "    </tr>\n",
       "    <tr>\n",
       "      <th>7771</th>\n",
       "      <td>1</td>\n",
       "      <td>Fletcher Farmhouse</td>\n",
       "      <td>William</td>\n",
       "      <td>French</td>\n",
       "      <td>48</td>\n",
       "      <td>Lodger</td>\n",
       "      <td>Single</td>\n",
       "      <td>Male</td>\n",
       "      <td>Unemployed</td>\n",
       "      <td>None</td>\n",
       "      <td>Christian</td>\n",
       "      <td>Unemployed</td>\n",
       "    </tr>\n",
       "  </tbody>\n",
       "</table>\n",
       "<p>442 rows × 12 columns</p>\n",
       "</div>"
      ],
      "text/plain": [
       "      House Number              Street First Name   Surname  Age  \\\n",
       "0                1   Forgotten Gardens      Laura     White   56   \n",
       "11               5   Forgotten Gardens       Rhys    Conway   41   \n",
       "21               8   Forgotten Gardens  Catherine       Cox   38   \n",
       "24               9   Forgotten Gardens     Hollie  Robinson   30   \n",
       "61              13      Quayside Drive    Mohamed   Stevens   57   \n",
       "...            ...                 ...        ...       ...  ...   \n",
       "7636            11         North Glens      Frank      Rowe   29   \n",
       "7638            12         North Glens    Elliott      Bibi   48   \n",
       "7645            14         North Glens    Eleanor     Clark   31   \n",
       "7686            25         North Glens     Elaine  Mitchell   23   \n",
       "7771             1  Fletcher Farmhouse    William    French   48   \n",
       "\n",
       "     Relationship to Head of House Marital Status  Gender  Occupation  \\\n",
       "0                             Head        Married  Female  Unemployed   \n",
       "11                         Husband        Married    Male  Unemployed   \n",
       "21                            Head       Divorced  Female  Unemployed   \n",
       "24                            Head       Divorced  Female  Unemployed   \n",
       "61                            Head         Single    Male  Unemployed   \n",
       "...                            ...            ...     ...         ...   \n",
       "7636                       Partner         Single    Male  Unemployed   \n",
       "7638                          Head         Single    Male  Unemployed   \n",
       "7645                      Daughter         Single  Female  Unemployed   \n",
       "7686                      Daughter         Single  Female  Unemployed   \n",
       "7771                        Lodger         Single    Male  Unemployed   \n",
       "\n",
       "     Infirmity   Religion OccupationFW  \n",
       "0         None  Christian   Unemployed  \n",
       "11        None       None   Unemployed  \n",
       "21        None       None   Unemployed  \n",
       "24        None   Catholic   Unemployed  \n",
       "61        None  Christian   Unemployed  \n",
       "...        ...        ...          ...  \n",
       "7636      None  Christian   Unemployed  \n",
       "7638      None   Catholic   Unemployed  \n",
       "7645      None  Christian   Unemployed  \n",
       "7686      None   Catholic   Unemployed  \n",
       "7771      None  Christian   Unemployed  \n",
       "\n",
       "[442 rows x 12 columns]"
      ]
     },
     "execution_count": 118,
     "metadata": {},
     "output_type": "execute_result"
    }
   ],
   "source": [
    "unempployed_pop"
   ]
  },
  {
   "cell_type": "code",
   "execution_count": 119,
   "id": "d2f11aca",
   "metadata": {},
   "outputs": [
    {
     "data": {
      "text/plain": [
       "array(['Forgotten Gardens', 'Quayside Drive', 'Fish Harbor',\n",
       "       'Matthews River', 'Butcher Burgs', 'Oaktree Road', 'Thomas Brook',\n",
       "       'Newfound Drive', 'Wade Manors', 'Newfound Creek',\n",
       "       'Aprildraw Avenue', 'Beechpush Lane', 'Pillar Avenue',\n",
       "       'Springban Street', 'Donnelly Cliffs', 'Pratt Via',\n",
       "       'Higgins Burgs', 'Murray Road', 'Kraken Road', 'Guardian Mews',\n",
       "       'Webster Street', 'Nicholson Road', 'Repton Lane',\n",
       "       'Barbican Prairie', 'Wakefieldthorpe Street', 'Chester Street',\n",
       "       'Sinclair Passage', 'Palmtree Haven', 'Stirling Avenue',\n",
       "       'Iron Track', 'Norwich Cliffs', 'Portsmouthcurl Road',\n",
       "       'Forgottencrib Lane', 'Joyce Mill', 'Briggs Avenue',\n",
       "       'Aquarius Lane', 'Chapman Landing', 'Wong Light',\n",
       "       'Robinson Bridge', 'Estuary Drive', 'Khan Valley',\n",
       "       'Wolverhampton Avenue', 'March Views', 'Lucas Groves',\n",
       "       'Gold Street', 'Copper Loaf', 'Metropolis Alley',\n",
       "       'Jenkins Extensions', 'Palmer Track', 'Laurel Road',\n",
       "       'Manchestercharm Street', 'Kerr Avenue', 'Robinson Avenue',\n",
       "       'Honeysucklebank Avenue', 'Eagle Corners', 'Field Throughway',\n",
       "       'Simpson Flats', 'Cardifflake Lane', 'Scorpio Ville',\n",
       "       'Hopevane Road', 'Kielder Avenue', 'Edwards Garden',\n",
       "       'Cooke Avenue', 'Davies Orchard', 'July Avenue', 'Skylock Curve',\n",
       "       'Scepter Lane', 'Thames Street', 'Sullivan Ridges',\n",
       "       'Roberts Unions', 'Wilkins Street', 'Singh Landing',\n",
       "       'Jordan Haven', 'Iqbal Plaza', 'Newman Ridges', 'Thompson Street',\n",
       "       'Romantraps Avenue', 'Cottingham Drive', 'Embassy Stream',\n",
       "       'Derbyrush Road', 'Baker Springs', 'Paladin Avenue',\n",
       "       'Manchester Flats', 'Monument Lodge', 'Plymouth Way',\n",
       "       'Mahogany Club', 'Oaktree Pass', 'United Drive', 'Ebor Drive',\n",
       "       'North Glens', 'Alba Granary', 'William Citadel',\n",
       "       'Coronation Rocks', 'Hope Commune', 'Smith Manor',\n",
       "       'Dixon Longhouse', 'Brown Obervatory', 'Cancer Palace',\n",
       "       'Matthews Rectory', 'Hutchinson Longhouse', 'Temple Rectory',\n",
       "       'Lee Villa', 'Elephant Folly', 'Adams Cottage',\n",
       "       'Fletcher Farmhouse'], dtype=object)"
      ]
     },
     "execution_count": 119,
     "metadata": {},
     "output_type": "execute_result"
    }
   ],
   "source": [
    "p_census['Street'].unique()"
   ]
  },
  {
   "cell_type": "code",
   "execution_count": 122,
   "id": "2f50265e",
   "metadata": {},
   "outputs": [
    {
     "name": "stdout",
     "output_type": "stream",
     "text": [
      " \n",
      " \n",
      " \n",
      " \n",
      " \n",
      " \n"
     ]
    },
    {
     "data": {
      "text/html": [
       "<div>\n",
       "<style scoped>\n",
       "    .dataframe tbody tr th:only-of-type {\n",
       "        vertical-align: middle;\n",
       "    }\n",
       "\n",
       "    .dataframe tbody tr th {\n",
       "        vertical-align: top;\n",
       "    }\n",
       "\n",
       "    .dataframe thead th {\n",
       "        text-align: right;\n",
       "    }\n",
       "</style>\n",
       "<table border=\"1\" class=\"dataframe\">\n",
       "  <thead>\n",
       "    <tr style=\"text-align: right;\">\n",
       "      <th></th>\n",
       "      <th>Street</th>\n",
       "      <th>House Number</th>\n",
       "      <th>Mode</th>\n",
       "      <th>Occupancy</th>\n",
       "      <th>Difference</th>\n",
       "    </tr>\n",
       "  </thead>\n",
       "  <tbody>\n",
       "    <tr>\n",
       "      <th>0</th>\n",
       "      <td>Forgotten Gardens</td>\n",
       "      <td>1</td>\n",
       "      <td>5</td>\n",
       "      <td>3</td>\n",
       "      <td>2</td>\n",
       "    </tr>\n",
       "    <tr>\n",
       "      <th>1</th>\n",
       "      <td>Forgotten Gardens</td>\n",
       "      <td>2</td>\n",
       "      <td>5</td>\n",
       "      <td>2</td>\n",
       "      <td>3</td>\n",
       "    </tr>\n",
       "    <tr>\n",
       "      <th>2</th>\n",
       "      <td>Forgotten Gardens</td>\n",
       "      <td>3</td>\n",
       "      <td>5</td>\n",
       "      <td>1</td>\n",
       "      <td>4</td>\n",
       "    </tr>\n",
       "    <tr>\n",
       "      <th>3</th>\n",
       "      <td>Forgotten Gardens</td>\n",
       "      <td>4</td>\n",
       "      <td>5</td>\n",
       "      <td>4</td>\n",
       "      <td>1</td>\n",
       "    </tr>\n",
       "    <tr>\n",
       "      <th>4</th>\n",
       "      <td>Forgotten Gardens</td>\n",
       "      <td>5</td>\n",
       "      <td>5</td>\n",
       "      <td>3</td>\n",
       "      <td>2</td>\n",
       "    </tr>\n",
       "    <tr>\n",
       "      <th>...</th>\n",
       "      <td>...</td>\n",
       "      <td>...</td>\n",
       "      <td>...</td>\n",
       "      <td>...</td>\n",
       "      <td>...</td>\n",
       "    </tr>\n",
       "    <tr>\n",
       "      <th>2907</th>\n",
       "      <td>Temple Rectory</td>\n",
       "      <td>1</td>\n",
       "      <td>5</td>\n",
       "      <td>5</td>\n",
       "      <td>0</td>\n",
       "    </tr>\n",
       "    <tr>\n",
       "      <th>2908</th>\n",
       "      <td>Lee Villa</td>\n",
       "      <td>1</td>\n",
       "      <td>1</td>\n",
       "      <td>1</td>\n",
       "      <td>0</td>\n",
       "    </tr>\n",
       "    <tr>\n",
       "      <th>2909</th>\n",
       "      <td>Elephant Folly</td>\n",
       "      <td>1</td>\n",
       "      <td>5</td>\n",
       "      <td>5</td>\n",
       "      <td>0</td>\n",
       "    </tr>\n",
       "    <tr>\n",
       "      <th>2910</th>\n",
       "      <td>Adams Cottage</td>\n",
       "      <td>1</td>\n",
       "      <td>3</td>\n",
       "      <td>3</td>\n",
       "      <td>0</td>\n",
       "    </tr>\n",
       "    <tr>\n",
       "      <th>2911</th>\n",
       "      <td>Fletcher Farmhouse</td>\n",
       "      <td>1</td>\n",
       "      <td>5</td>\n",
       "      <td>5</td>\n",
       "      <td>0</td>\n",
       "    </tr>\n",
       "  </tbody>\n",
       "</table>\n",
       "<p>2912 rows × 5 columns</p>\n",
       "</div>"
      ],
      "text/plain": [
       "                  Street  House Number  Mode  Occupancy  Difference\n",
       "0      Forgotten Gardens             1     5          3           2\n",
       "1      Forgotten Gardens             2     5          2           3\n",
       "2      Forgotten Gardens             3     5          1           4\n",
       "3      Forgotten Gardens             4     5          4           1\n",
       "4      Forgotten Gardens             5     5          3           2\n",
       "...                  ...           ...   ...        ...         ...\n",
       "2907      Temple Rectory             1     5          5           0\n",
       "2908           Lee Villa             1     1          1           0\n",
       "2909      Elephant Folly             1     5          5           0\n",
       "2910       Adams Cottage             1     3          3           0\n",
       "2911  Fletcher Farmhouse             1     5          5           0\n",
       "\n",
       "[2912 rows x 5 columns]"
      ]
     },
     "execution_count": 122,
     "metadata": {},
     "output_type": "execute_result"
    }
   ],
   "source": [
    "st = p_census['Street'].unique().tolist()\n",
    "numberStreet = len(st)\n",
    "print (' ')\n",
    "mode= []  # the frequent house num in a street\n",
    "for x in st:\n",
    "    temp = (p_census[p_census['Street'] == x ])\n",
    "    Mode_House = ((temp['House Number']).mode())[0]\n",
    "    mode.append( len(temp[temp['House Number'] == Mode_House]) )\n",
    "#prining the Mode List    \n",
    "print (' ')\n",
    "NumberHouseStreet = [len((p_census[p_census['Street'] == st[x]])['House Number'].unique()) for x in range(0,numberStreet)] #Num of houses in each street\n",
    "#print number of house street \n",
    "print (' ')\n",
    "#Repetiting the Street name\n",
    "street_Rep = [st[i] for i in range(0,numberStreet) for j in range(0,NumberHouseStreet[i])]\n",
    "print (' ')\n",
    "houseNum = []\n",
    "for x in st:\n",
    "    houseNum.append((p_census[p_census['Street'] == x])['House Number'].unique().tolist())\n",
    "Dist_Hou_Num = [x for sublist in houseNum for x in sublist]\n",
    "houseNum = []\n",
    "for x in st:\n",
    "    houseNum.append((p_census[p_census['Street'] == x])['House Number'].unique().tolist())\n",
    "Dist_Hou_Num = [x for sublist in houseNum for x in sublist]\n",
    "print (' ') \n",
    "Mode = [mode[i] for i in range(0,numberStreet) for j in range(0,NumberHouseStreet[i])]\n",
    "print (' ')\n",
    "Occupancy = [len(p_census[ (p_census['Street'] == street_Rep[i]) & (p_census['House Number'] == Dist_Hou_Num[i])]) for i in range(0,len( street_Rep)) ]\n",
    "housing_demand = pd.DataFrame({'Street': street_Rep, 'House Number': Dist_Hou_Num, 'Mode': Mode,'Occupancy': Occupancy})\n",
    "\n",
    "housing_demand['Difference'] = housing_demand['Mode'] - housing_demand['Occupancy']\n",
    "housing_demand"
   ]
  },
  {
   "cell_type": "code",
   "execution_count": 123,
   "id": "35005b47",
   "metadata": {},
   "outputs": [
    {
     "data": {
      "text/html": [
       "<div>\n",
       "<style scoped>\n",
       "    .dataframe tbody tr th:only-of-type {\n",
       "        vertical-align: middle;\n",
       "    }\n",
       "\n",
       "    .dataframe tbody tr th {\n",
       "        vertical-align: top;\n",
       "    }\n",
       "\n",
       "    .dataframe thead th {\n",
       "        text-align: right;\n",
       "    }\n",
       "</style>\n",
       "<table border=\"1\" class=\"dataframe\">\n",
       "  <thead>\n",
       "    <tr style=\"text-align: right;\">\n",
       "      <th></th>\n",
       "      <th>House Number</th>\n",
       "      <th>Age</th>\n",
       "    </tr>\n",
       "  </thead>\n",
       "  <tbody>\n",
       "    <tr>\n",
       "      <th>count</th>\n",
       "      <td>7773.000000</td>\n",
       "      <td>7773.000000</td>\n",
       "    </tr>\n",
       "    <tr>\n",
       "      <th>mean</th>\n",
       "      <td>30.491316</td>\n",
       "      <td>36.501737</td>\n",
       "    </tr>\n",
       "    <tr>\n",
       "      <th>std</th>\n",
       "      <td>36.500214</td>\n",
       "      <td>21.836910</td>\n",
       "    </tr>\n",
       "    <tr>\n",
       "      <th>min</th>\n",
       "      <td>1.000000</td>\n",
       "      <td>0.000000</td>\n",
       "    </tr>\n",
       "    <tr>\n",
       "      <th>25%</th>\n",
       "      <td>9.000000</td>\n",
       "      <td>19.000000</td>\n",
       "    </tr>\n",
       "    <tr>\n",
       "      <th>50%</th>\n",
       "      <td>20.000000</td>\n",
       "      <td>36.000000</td>\n",
       "    </tr>\n",
       "    <tr>\n",
       "      <th>75%</th>\n",
       "      <td>36.000000</td>\n",
       "      <td>52.000000</td>\n",
       "    </tr>\n",
       "    <tr>\n",
       "      <th>max</th>\n",
       "      <td>221.000000</td>\n",
       "      <td>105.000000</td>\n",
       "    </tr>\n",
       "  </tbody>\n",
       "</table>\n",
       "</div>"
      ],
      "text/plain": [
       "       House Number          Age\n",
       "count   7773.000000  7773.000000\n",
       "mean      30.491316    36.501737\n",
       "std       36.500214    21.836910\n",
       "min        1.000000     0.000000\n",
       "25%        9.000000    19.000000\n",
       "50%       20.000000    36.000000\n",
       "75%       36.000000    52.000000\n",
       "max      221.000000   105.000000"
      ]
     },
     "execution_count": 123,
     "metadata": {},
     "output_type": "execute_result"
    }
   ],
   "source": [
    "p_census.describe()"
   ]
  },
  {
   "cell_type": "code",
   "execution_count": 124,
   "id": "21f2ec6f",
   "metadata": {},
   "outputs": [
    {
     "name": "stderr",
     "output_type": "stream",
     "text": [
      "C:\\Users\\kelvi\\AppData\\Local\\Programs\\Python\\Python310\\lib\\site-packages\\sweetviz\\dataframe_report.py:74: FutureWarning: iteritems is deprecated and will be removed in a future version. Use .items instead.\n",
      "  all_source_names = [cur_name for cur_name, cur_series in source_df.iteritems()]\n",
      "C:\\Users\\kelvi\\AppData\\Local\\Programs\\Python\\Python310\\lib\\site-packages\\sweetviz\\dataframe_report.py:109: FutureWarning: iteritems is deprecated and will be removed in a future version. Use .items instead.\n",
      "  filtered_series_names_in_source = [cur_name for cur_name, cur_series in source_df.iteritems()\n"
     ]
    },
    {
     "data": {
      "application/vnd.jupyter.widget-view+json": {
       "model_id": "7ec04d2b59e54d2caacc9b823e1a1286",
       "version_major": 2,
       "version_minor": 0
      },
      "text/plain": [
       "                                             |                                             | [  0%]   00:00 ->…"
      ]
     },
     "metadata": {},
     "output_type": "display_data"
    },
    {
     "name": "stderr",
     "output_type": "stream",
     "text": [
      "C:\\Users\\kelvi\\AppData\\Local\\Programs\\Python\\Python310\\lib\\site-packages\\sweetviz\\series_analyzer_numeric.py:25: FutureWarning: The 'mad' method is deprecated and will be removed in a future version. To compute the same result, you may do `(df - df.mean()).abs().mean()`.\n",
      "  stats[\"mad\"] = series.mad()\n",
      "C:\\Users\\kelvi\\AppData\\Local\\Programs\\Python\\Python310\\lib\\site-packages\\sweetviz\\series_analyzer_text.py:19: FutureWarning: iteritems is deprecated and will be removed in a future version. Use .items instead.\n",
      "  for item in to_process.source_counts[\"value_counts_without_nan\"].iteritems():\n",
      "C:\\Users\\kelvi\\AppData\\Local\\Programs\\Python\\Python310\\lib\\site-packages\\sweetviz\\series_analyzer_text.py:19: FutureWarning: iteritems is deprecated and will be removed in a future version. Use .items instead.\n",
      "  for item in to_process.source_counts[\"value_counts_without_nan\"].iteritems():\n",
      "C:\\Users\\kelvi\\AppData\\Local\\Programs\\Python\\Python310\\lib\\site-packages\\sweetviz\\series_analyzer_text.py:19: FutureWarning: iteritems is deprecated and will be removed in a future version. Use .items instead.\n",
      "  for item in to_process.source_counts[\"value_counts_without_nan\"].iteritems():\n",
      "C:\\Users\\kelvi\\AppData\\Local\\Programs\\Python\\Python310\\lib\\site-packages\\sweetviz\\series_analyzer_numeric.py:25: FutureWarning: The 'mad' method is deprecated and will be removed in a future version. To compute the same result, you may do `(df - df.mean()).abs().mean()`.\n",
      "  stats[\"mad\"] = series.mad()\n",
      "C:\\Users\\kelvi\\AppData\\Local\\Programs\\Python\\Python310\\lib\\site-packages\\sweetviz\\series_analyzer_cat.py:28: FutureWarning: iteritems is deprecated and will be removed in a future version. Use .items instead.\n",
      "  for item in category_counts.iteritems():\n",
      "C:\\Users\\kelvi\\AppData\\Local\\Programs\\Python\\Python310\\lib\\site-packages\\sweetviz\\series_analyzer_cat.py:28: FutureWarning: iteritems is deprecated and will be removed in a future version. Use .items instead.\n",
      "  for item in category_counts.iteritems():\n",
      "C:\\Users\\kelvi\\AppData\\Local\\Programs\\Python\\Python310\\lib\\site-packages\\sweetviz\\series_analyzer_cat.py:28: FutureWarning: iteritems is deprecated and will be removed in a future version. Use .items instead.\n",
      "  for item in category_counts.iteritems():\n",
      "C:\\Users\\kelvi\\AppData\\Local\\Programs\\Python\\Python310\\lib\\site-packages\\sweetviz\\series_analyzer_text.py:19: FutureWarning: iteritems is deprecated and will be removed in a future version. Use .items instead.\n",
      "  for item in to_process.source_counts[\"value_counts_without_nan\"].iteritems():\n",
      "C:\\Users\\kelvi\\AppData\\Local\\Programs\\Python\\Python310\\lib\\site-packages\\sweetviz\\series_analyzer_cat.py:28: FutureWarning: iteritems is deprecated and will be removed in a future version. Use .items instead.\n",
      "  for item in category_counts.iteritems():\n",
      "C:\\Users\\kelvi\\AppData\\Local\\Programs\\Python\\Python310\\lib\\site-packages\\sweetviz\\series_analyzer_cat.py:28: FutureWarning: iteritems is deprecated and will be removed in a future version. Use .items instead.\n",
      "  for item in category_counts.iteritems():\n",
      "C:\\Users\\kelvi\\AppData\\Local\\Programs\\Python\\Python310\\lib\\site-packages\\sweetviz\\series_analyzer_text.py:19: FutureWarning: iteritems is deprecated and will be removed in a future version. Use .items instead.\n",
      "  for item in to_process.source_counts[\"value_counts_without_nan\"].iteritems():\n"
     ]
    },
    {
     "name": "stdout",
     "output_type": "stream",
     "text": [
      "Report SWEETVIZ_REPORT.html was generated! NOTEBOOK/COLAB USERS: the web browser MAY not pop up, regardless, the report IS saved in your notebook/colab files.\n"
     ]
    }
   ],
   "source": [
    "rep = sv.analyze(p_census)\n",
    "rep.show_html()\n"
   ]
  },
  {
   "cell_type": "code",
   "execution_count": null,
   "id": "eb1ae989",
   "metadata": {},
   "outputs": [],
   "source": []
  },
  {
   "cell_type": "code",
   "execution_count": null,
   "id": "b7255f46",
   "metadata": {},
   "outputs": [],
   "source": []
  },
  {
   "cell_type": "code",
   "execution_count": null,
   "id": "5483fbdc",
   "metadata": {},
   "outputs": [],
   "source": []
  },
  {
   "cell_type": "code",
   "execution_count": null,
   "id": "eb96b3bf",
   "metadata": {},
   "outputs": [],
   "source": []
  }
 ],
 "metadata": {
  "kernelspec": {
   "display_name": "Python 3 (ipykernel)",
   "language": "python",
   "name": "python3"
  },
  "language_info": {
   "codemirror_mode": {
    "name": "ipython",
    "version": 3
   },
   "file_extension": ".py",
   "mimetype": "text/x-python",
   "name": "python",
   "nbconvert_exporter": "python",
   "pygments_lexer": "ipython3",
   "version": "3.10.8"
  }
 },
 "nbformat": 4,
 "nbformat_minor": 5
}
